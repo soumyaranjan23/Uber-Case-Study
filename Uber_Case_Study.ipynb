{
  "nbformat": 4,
  "nbformat_minor": 0,
  "metadata": {
    "colab": {
      "provenance": [],
      "mount_file_id": "1evkLGIV300PMgWraO7X6YBQ0EP3tR3tS",
      "authorship_tag": "ABX9TyP/AXYWZFTH3oZTVNXb+mrE",
      "include_colab_link": true
    },
    "kernelspec": {
      "name": "python3",
      "display_name": "Python 3"
    },
    "language_info": {
      "name": "python"
    }
  },
  "cells": [
    {
      "cell_type": "markdown",
      "metadata": {
        "id": "view-in-github",
        "colab_type": "text"
      },
      "source": [
        "<a href=\"https://colab.research.google.com/github/soumyaranjan23/Uber-Case-Study/blob/main/Uber_Case_Study.ipynb\" target=\"_parent\"><img src=\"https://colab.research.google.com/assets/colab-badge.svg\" alt=\"Open In Colab\"/></a>"
      ]
    },
    {
      "cell_type": "markdown",
      "source": [
        "# **First of all, let's understand the business domain**\n",
        "\n",
        "Ridesharing is when people use a service to get a ride on short notice. It's a market with a lot of changes in demand based on factors like time, place, weather, and events. The key to success in ridesharing is to be able to understand how demand changes and provide rides when people need them.\n",
        "\n",
        "# **Objective:**\n",
        "\n",
        "As a newly hired Data Analyst in you have been given the task of extracting actionable insights from data that will help in the growth of the the business."
      ],
      "metadata": {
        "id": "Fsv1mzcgM6Np"
      }
    },
    {
      "cell_type": "markdown",
      "source": [
        "# **Questions the Uber management are asking**\n",
        "\n",
        "1. What are the different variables that influence the number of pickups?\n",
        "2. Which factor affects the number of pickups the most? What could be the possible reasons for that?\n",
        "3. What are your recommendations to Uber management to capitalize on fluctuating demand?"
      ],
      "metadata": {
        "id": "i_A3y_jfNxp9"
      }
    },
    {
      "cell_type": "markdown",
      "source": [
        "# **Well what do we have in the Data?**\n",
        "\n",
        "The data contains the details for the Uber rides across various boroughs (subdivisions) of New York City at an hourly level and attributes associated with weather conditions at that time.\n",
        "\n",
        "* pickup_dt: Date and time of the pick-up\n",
        "* borough: NYC's borough\n",
        "* pickups: Number of pickups for the period (hourly)\n",
        "* spd: Wind speed in miles/hour\n",
        "* vsb: Visibility in miles to the nearest tenth\n",
        "* temp: Temperature in Fahrenheit\n",
        "* dewp: Dew point in Fahrenheit\n",
        "* slp: Sea level pressure\n",
        "* pcp01: 1-hour liquid precipitation\n",
        "* pcp06: 6-hour liquid precipitation\n",
        "* pcp24: 24-hour liquid precipitation\n",
        "* sd: Snow depth in inches\n",
        "* hday: Being a holiday (Y) or not (N)"
      ],
      "metadata": {
        "id": "GsJ6HMONOHEI"
      }
    },
    {
      "cell_type": "markdown",
      "source": [
        "# **Importing the necessary libraries**"
      ],
      "metadata": {
        "id": "6yB_UajQOoTD"
      }
    },
    {
      "cell_type": "code",
      "execution_count": 2,
      "metadata": {
        "id": "eI5KMsc_MgC8"
      },
      "outputs": [],
      "source": [
        "# libraries to help with reading manipulating data\n",
        "import numpy as np\n",
        "import pandas as pd \n",
        "\n",
        "# libraries to help with data visualization\n",
        "import matplotlib.pyplot as plt\n",
        "import seaborn as sns\n",
        "#%matplotlib inline"
      ]
    },
    {
      "cell_type": "markdown",
      "source": [
        "# **Loading the dataset**"
      ],
      "metadata": {
        "id": "u1abQSQ8P9Fc"
      }
    },
    {
      "cell_type": "code",
      "source": [
        "df = pd.read_csv('/content/drive/MyDrive/Uber_Data.csv')\n"
      ],
      "metadata": {
        "id": "F7map_THQDxg"
      },
      "execution_count": 4,
      "outputs": []
    },
    {
      "cell_type": "code",
      "source": [
        "df.head()"
      ],
      "metadata": {
        "colab": {
          "base_uri": "https://localhost:8080/",
          "height": 206
        },
        "id": "QOnRMxs-Qpbo",
        "outputId": "d37f11e6-d63c-480a-8c8d-bd1d8ae293d0"
      },
      "execution_count": 5,
      "outputs": [
        {
          "output_type": "execute_result",
          "data": {
            "text/plain": [
              "          pickup_dt    borough  pickups  spd   vsb  temp  dewp     slp  pcp01  \\\n",
              "0  01-01-2015 01:00      Bronx      152  5.0  10.0  30.0   7.0  1023.5    0.0   \n",
              "1  01-01-2015 01:00   Brooklyn     1519  5.0  10.0   NaN   7.0  1023.5    0.0   \n",
              "2  01-01-2015 01:00        EWR        0  5.0  10.0  30.0   7.0  1023.5    0.0   \n",
              "3  01-01-2015 01:00  Manhattan     5258  5.0  10.0  30.0   7.0  1023.5    0.0   \n",
              "4  01-01-2015 01:00     Queens      405  5.0  10.0  30.0   7.0  1023.5    0.0   \n",
              "\n",
              "   pcp06  pcp24   sd hday  \n",
              "0    0.0    0.0  0.0    Y  \n",
              "1    0.0    0.0  0.0    Y  \n",
              "2    0.0    0.0  0.0    Y  \n",
              "3    0.0    0.0  0.0    Y  \n",
              "4    0.0    0.0  0.0    Y  "
            ],
            "text/html": [
              "\n",
              "  <div id=\"df-3d37a1e6-1db5-4821-a94d-19c51a9c7749\">\n",
              "    <div class=\"colab-df-container\">\n",
              "      <div>\n",
              "<style scoped>\n",
              "    .dataframe tbody tr th:only-of-type {\n",
              "        vertical-align: middle;\n",
              "    }\n",
              "\n",
              "    .dataframe tbody tr th {\n",
              "        vertical-align: top;\n",
              "    }\n",
              "\n",
              "    .dataframe thead th {\n",
              "        text-align: right;\n",
              "    }\n",
              "</style>\n",
              "<table border=\"1\" class=\"dataframe\">\n",
              "  <thead>\n",
              "    <tr style=\"text-align: right;\">\n",
              "      <th></th>\n",
              "      <th>pickup_dt</th>\n",
              "      <th>borough</th>\n",
              "      <th>pickups</th>\n",
              "      <th>spd</th>\n",
              "      <th>vsb</th>\n",
              "      <th>temp</th>\n",
              "      <th>dewp</th>\n",
              "      <th>slp</th>\n",
              "      <th>pcp01</th>\n",
              "      <th>pcp06</th>\n",
              "      <th>pcp24</th>\n",
              "      <th>sd</th>\n",
              "      <th>hday</th>\n",
              "    </tr>\n",
              "  </thead>\n",
              "  <tbody>\n",
              "    <tr>\n",
              "      <th>0</th>\n",
              "      <td>01-01-2015 01:00</td>\n",
              "      <td>Bronx</td>\n",
              "      <td>152</td>\n",
              "      <td>5.0</td>\n",
              "      <td>10.0</td>\n",
              "      <td>30.0</td>\n",
              "      <td>7.0</td>\n",
              "      <td>1023.5</td>\n",
              "      <td>0.0</td>\n",
              "      <td>0.0</td>\n",
              "      <td>0.0</td>\n",
              "      <td>0.0</td>\n",
              "      <td>Y</td>\n",
              "    </tr>\n",
              "    <tr>\n",
              "      <th>1</th>\n",
              "      <td>01-01-2015 01:00</td>\n",
              "      <td>Brooklyn</td>\n",
              "      <td>1519</td>\n",
              "      <td>5.0</td>\n",
              "      <td>10.0</td>\n",
              "      <td>NaN</td>\n",
              "      <td>7.0</td>\n",
              "      <td>1023.5</td>\n",
              "      <td>0.0</td>\n",
              "      <td>0.0</td>\n",
              "      <td>0.0</td>\n",
              "      <td>0.0</td>\n",
              "      <td>Y</td>\n",
              "    </tr>\n",
              "    <tr>\n",
              "      <th>2</th>\n",
              "      <td>01-01-2015 01:00</td>\n",
              "      <td>EWR</td>\n",
              "      <td>0</td>\n",
              "      <td>5.0</td>\n",
              "      <td>10.0</td>\n",
              "      <td>30.0</td>\n",
              "      <td>7.0</td>\n",
              "      <td>1023.5</td>\n",
              "      <td>0.0</td>\n",
              "      <td>0.0</td>\n",
              "      <td>0.0</td>\n",
              "      <td>0.0</td>\n",
              "      <td>Y</td>\n",
              "    </tr>\n",
              "    <tr>\n",
              "      <th>3</th>\n",
              "      <td>01-01-2015 01:00</td>\n",
              "      <td>Manhattan</td>\n",
              "      <td>5258</td>\n",
              "      <td>5.0</td>\n",
              "      <td>10.0</td>\n",
              "      <td>30.0</td>\n",
              "      <td>7.0</td>\n",
              "      <td>1023.5</td>\n",
              "      <td>0.0</td>\n",
              "      <td>0.0</td>\n",
              "      <td>0.0</td>\n",
              "      <td>0.0</td>\n",
              "      <td>Y</td>\n",
              "    </tr>\n",
              "    <tr>\n",
              "      <th>4</th>\n",
              "      <td>01-01-2015 01:00</td>\n",
              "      <td>Queens</td>\n",
              "      <td>405</td>\n",
              "      <td>5.0</td>\n",
              "      <td>10.0</td>\n",
              "      <td>30.0</td>\n",
              "      <td>7.0</td>\n",
              "      <td>1023.5</td>\n",
              "      <td>0.0</td>\n",
              "      <td>0.0</td>\n",
              "      <td>0.0</td>\n",
              "      <td>0.0</td>\n",
              "      <td>Y</td>\n",
              "    </tr>\n",
              "  </tbody>\n",
              "</table>\n",
              "</div>\n",
              "      <button class=\"colab-df-convert\" onclick=\"convertToInteractive('df-3d37a1e6-1db5-4821-a94d-19c51a9c7749')\"\n",
              "              title=\"Convert this dataframe to an interactive table.\"\n",
              "              style=\"display:none;\">\n",
              "        \n",
              "  <svg xmlns=\"http://www.w3.org/2000/svg\" height=\"24px\"viewBox=\"0 0 24 24\"\n",
              "       width=\"24px\">\n",
              "    <path d=\"M0 0h24v24H0V0z\" fill=\"none\"/>\n",
              "    <path d=\"M18.56 5.44l.94 2.06.94-2.06 2.06-.94-2.06-.94-.94-2.06-.94 2.06-2.06.94zm-11 1L8.5 8.5l.94-2.06 2.06-.94-2.06-.94L8.5 2.5l-.94 2.06-2.06.94zm10 10l.94 2.06.94-2.06 2.06-.94-2.06-.94-.94-2.06-.94 2.06-2.06.94z\"/><path d=\"M17.41 7.96l-1.37-1.37c-.4-.4-.92-.59-1.43-.59-.52 0-1.04.2-1.43.59L10.3 9.45l-7.72 7.72c-.78.78-.78 2.05 0 2.83L4 21.41c.39.39.9.59 1.41.59.51 0 1.02-.2 1.41-.59l7.78-7.78 2.81-2.81c.8-.78.8-2.07 0-2.86zM5.41 20L4 18.59l7.72-7.72 1.47 1.35L5.41 20z\"/>\n",
              "  </svg>\n",
              "      </button>\n",
              "      \n",
              "  <style>\n",
              "    .colab-df-container {\n",
              "      display:flex;\n",
              "      flex-wrap:wrap;\n",
              "      gap: 12px;\n",
              "    }\n",
              "\n",
              "    .colab-df-convert {\n",
              "      background-color: #E8F0FE;\n",
              "      border: none;\n",
              "      border-radius: 50%;\n",
              "      cursor: pointer;\n",
              "      display: none;\n",
              "      fill: #1967D2;\n",
              "      height: 32px;\n",
              "      padding: 0 0 0 0;\n",
              "      width: 32px;\n",
              "    }\n",
              "\n",
              "    .colab-df-convert:hover {\n",
              "      background-color: #E2EBFA;\n",
              "      box-shadow: 0px 1px 2px rgba(60, 64, 67, 0.3), 0px 1px 3px 1px rgba(60, 64, 67, 0.15);\n",
              "      fill: #174EA6;\n",
              "    }\n",
              "\n",
              "    [theme=dark] .colab-df-convert {\n",
              "      background-color: #3B4455;\n",
              "      fill: #D2E3FC;\n",
              "    }\n",
              "\n",
              "    [theme=dark] .colab-df-convert:hover {\n",
              "      background-color: #434B5C;\n",
              "      box-shadow: 0px 1px 3px 1px rgba(0, 0, 0, 0.15);\n",
              "      filter: drop-shadow(0px 1px 2px rgba(0, 0, 0, 0.3));\n",
              "      fill: #FFFFFF;\n",
              "    }\n",
              "  </style>\n",
              "\n",
              "      <script>\n",
              "        const buttonEl =\n",
              "          document.querySelector('#df-3d37a1e6-1db5-4821-a94d-19c51a9c7749 button.colab-df-convert');\n",
              "        buttonEl.style.display =\n",
              "          google.colab.kernel.accessAllowed ? 'block' : 'none';\n",
              "\n",
              "        async function convertToInteractive(key) {\n",
              "          const element = document.querySelector('#df-3d37a1e6-1db5-4821-a94d-19c51a9c7749');\n",
              "          const dataTable =\n",
              "            await google.colab.kernel.invokeFunction('convertToInteractive',\n",
              "                                                     [key], {});\n",
              "          if (!dataTable) return;\n",
              "\n",
              "          const docLinkHtml = 'Like what you see? Visit the ' +\n",
              "            '<a target=\"_blank\" href=https://colab.research.google.com/notebooks/data_table.ipynb>data table notebook</a>'\n",
              "            + ' to learn more about interactive tables.';\n",
              "          element.innerHTML = '';\n",
              "          dataTable['output_type'] = 'display_data';\n",
              "          await google.colab.output.renderOutput(dataTable, element);\n",
              "          const docLink = document.createElement('div');\n",
              "          docLink.innerHTML = docLinkHtml;\n",
              "          element.appendChild(docLink);\n",
              "        }\n",
              "      </script>\n",
              "    </div>\n",
              "  </div>\n",
              "  "
            ]
          },
          "metadata": {},
          "execution_count": 5
        }
      ]
    },
    {
      "cell_type": "markdown",
      "source": [
        "# **Checking the shape of dataset**"
      ],
      "metadata": {
        "id": "HBQhpfH3RDvo"
      }
    },
    {
      "cell_type": "code",
      "source": [
        "df.shape"
      ],
      "metadata": {
        "colab": {
          "base_uri": "https://localhost:8080/"
        },
        "id": "tlsVOuOHQ_dt",
        "outputId": "d9bcf6c1-25e4-4033-f048-612fd1e3de5b"
      },
      "execution_count": 6,
      "outputs": [
        {
          "output_type": "execute_result",
          "data": {
            "text/plain": [
              "(29101, 13)"
            ]
          },
          "metadata": {},
          "execution_count": 6
        }
      ]
    },
    {
      "cell_type": "markdown",
      "source": [
        "# **Checking the data types of the columns for the dataset**"
      ],
      "metadata": {
        "id": "i75UuAm6RTgi"
      }
    },
    {
      "cell_type": "code",
      "source": [
        "df.info()\n",
        "\n",
        "# Age - Numerical (Intger, Float)\n",
        "# Object --> Age --> inspect"
      ],
      "metadata": {
        "colab": {
          "base_uri": "https://localhost:8080/"
        },
        "id": "TbzItyscRRq-",
        "outputId": "f4cc14f6-0fcb-4328-886b-7a9eff27d544"
      },
      "execution_count": 7,
      "outputs": [
        {
          "output_type": "stream",
          "name": "stdout",
          "text": [
            "<class 'pandas.core.frame.DataFrame'>\n",
            "RangeIndex: 29101 entries, 0 to 29100\n",
            "Data columns (total 13 columns):\n",
            " #   Column     Non-Null Count  Dtype  \n",
            "---  ------     --------------  -----  \n",
            " 0   pickup_dt  29101 non-null  object \n",
            " 1   borough    26058 non-null  object \n",
            " 2   pickups    29101 non-null  int64  \n",
            " 3   spd        29101 non-null  float64\n",
            " 4   vsb        29101 non-null  float64\n",
            " 5   temp       28742 non-null  float64\n",
            " 6   dewp       29101 non-null  float64\n",
            " 7   slp        29101 non-null  float64\n",
            " 8   pcp01      29101 non-null  float64\n",
            " 9   pcp06      29101 non-null  float64\n",
            " 10  pcp24      29101 non-null  float64\n",
            " 11  sd         29101 non-null  float64\n",
            " 12  hday       29101 non-null  object \n",
            "dtypes: float64(9), int64(1), object(3)\n",
            "memory usage: 2.9+ MB\n"
          ]
        }
      ]
    },
    {
      "cell_type": "markdown",
      "source": [
        "# **Getting the statistical summary for the dataset**"
      ],
      "metadata": {
        "id": "qy7e_rMERoS0"
      }
    },
    {
      "cell_type": "code",
      "source": [
        "df.describe()\n",
        "\n",
        "# statistical summary of every column\n",
        "# distribution of every column - skew\n",
        "# outlier - influential, noisy\n",
        "# variation\n",
        "\n",
        "# Skew --> there might be a chance I have to remove the skew - Data Transformation \n",
        "# ML model can fit better to data\n"
      ],
      "metadata": {
        "colab": {
          "base_uri": "https://localhost:8080/",
          "height": 300
        },
        "id": "uzOzW9PKRjNu",
        "outputId": "462ff26b-04d4-4a4e-af02-9453850c0900"
      },
      "execution_count": 8,
      "outputs": [
        {
          "output_type": "execute_result",
          "data": {
            "text/plain": [
              "            pickups           spd           vsb          temp          dewp  \\\n",
              "count  29101.000000  29101.000000  29101.000000  28742.000000  29101.000000   \n",
              "mean     490.215903      5.984924      8.818125     47.900019     30.823065   \n",
              "std      995.649536      3.699007      2.442897     19.798783     21.283444   \n",
              "min        0.000000      0.000000      0.000000      2.000000    -16.000000   \n",
              "25%        1.000000      3.000000      9.100000     32.000000     14.000000   \n",
              "50%       54.000000      6.000000     10.000000     46.500000     30.000000   \n",
              "75%      449.000000      8.000000     10.000000     65.000000     50.000000   \n",
              "max     7883.000000     21.000000     10.000000     89.000000     73.000000   \n",
              "\n",
              "                slp         pcp01         pcp06         pcp24            sd  \n",
              "count  29101.000000  29101.000000  29101.000000  29101.000000  29101.000000  \n",
              "mean    1017.817938      0.003830      0.026129      0.090464      2.529169  \n",
              "std        7.768796      0.018933      0.093125      0.219402      4.520325  \n",
              "min      991.400000      0.000000      0.000000      0.000000      0.000000  \n",
              "25%     1012.500000      0.000000      0.000000      0.000000      0.000000  \n",
              "50%     1018.200000      0.000000      0.000000      0.000000      0.000000  \n",
              "75%     1022.900000      0.000000      0.000000      0.050000      2.958333  \n",
              "max     1043.400000      0.280000      1.240000      2.100000     19.000000  "
            ],
            "text/html": [
              "\n",
              "  <div id=\"df-5e2e4b77-3063-403d-aec7-9a332f6776aa\">\n",
              "    <div class=\"colab-df-container\">\n",
              "      <div>\n",
              "<style scoped>\n",
              "    .dataframe tbody tr th:only-of-type {\n",
              "        vertical-align: middle;\n",
              "    }\n",
              "\n",
              "    .dataframe tbody tr th {\n",
              "        vertical-align: top;\n",
              "    }\n",
              "\n",
              "    .dataframe thead th {\n",
              "        text-align: right;\n",
              "    }\n",
              "</style>\n",
              "<table border=\"1\" class=\"dataframe\">\n",
              "  <thead>\n",
              "    <tr style=\"text-align: right;\">\n",
              "      <th></th>\n",
              "      <th>pickups</th>\n",
              "      <th>spd</th>\n",
              "      <th>vsb</th>\n",
              "      <th>temp</th>\n",
              "      <th>dewp</th>\n",
              "      <th>slp</th>\n",
              "      <th>pcp01</th>\n",
              "      <th>pcp06</th>\n",
              "      <th>pcp24</th>\n",
              "      <th>sd</th>\n",
              "    </tr>\n",
              "  </thead>\n",
              "  <tbody>\n",
              "    <tr>\n",
              "      <th>count</th>\n",
              "      <td>29101.000000</td>\n",
              "      <td>29101.000000</td>\n",
              "      <td>29101.000000</td>\n",
              "      <td>28742.000000</td>\n",
              "      <td>29101.000000</td>\n",
              "      <td>29101.000000</td>\n",
              "      <td>29101.000000</td>\n",
              "      <td>29101.000000</td>\n",
              "      <td>29101.000000</td>\n",
              "      <td>29101.000000</td>\n",
              "    </tr>\n",
              "    <tr>\n",
              "      <th>mean</th>\n",
              "      <td>490.215903</td>\n",
              "      <td>5.984924</td>\n",
              "      <td>8.818125</td>\n",
              "      <td>47.900019</td>\n",
              "      <td>30.823065</td>\n",
              "      <td>1017.817938</td>\n",
              "      <td>0.003830</td>\n",
              "      <td>0.026129</td>\n",
              "      <td>0.090464</td>\n",
              "      <td>2.529169</td>\n",
              "    </tr>\n",
              "    <tr>\n",
              "      <th>std</th>\n",
              "      <td>995.649536</td>\n",
              "      <td>3.699007</td>\n",
              "      <td>2.442897</td>\n",
              "      <td>19.798783</td>\n",
              "      <td>21.283444</td>\n",
              "      <td>7.768796</td>\n",
              "      <td>0.018933</td>\n",
              "      <td>0.093125</td>\n",
              "      <td>0.219402</td>\n",
              "      <td>4.520325</td>\n",
              "    </tr>\n",
              "    <tr>\n",
              "      <th>min</th>\n",
              "      <td>0.000000</td>\n",
              "      <td>0.000000</td>\n",
              "      <td>0.000000</td>\n",
              "      <td>2.000000</td>\n",
              "      <td>-16.000000</td>\n",
              "      <td>991.400000</td>\n",
              "      <td>0.000000</td>\n",
              "      <td>0.000000</td>\n",
              "      <td>0.000000</td>\n",
              "      <td>0.000000</td>\n",
              "    </tr>\n",
              "    <tr>\n",
              "      <th>25%</th>\n",
              "      <td>1.000000</td>\n",
              "      <td>3.000000</td>\n",
              "      <td>9.100000</td>\n",
              "      <td>32.000000</td>\n",
              "      <td>14.000000</td>\n",
              "      <td>1012.500000</td>\n",
              "      <td>0.000000</td>\n",
              "      <td>0.000000</td>\n",
              "      <td>0.000000</td>\n",
              "      <td>0.000000</td>\n",
              "    </tr>\n",
              "    <tr>\n",
              "      <th>50%</th>\n",
              "      <td>54.000000</td>\n",
              "      <td>6.000000</td>\n",
              "      <td>10.000000</td>\n",
              "      <td>46.500000</td>\n",
              "      <td>30.000000</td>\n",
              "      <td>1018.200000</td>\n",
              "      <td>0.000000</td>\n",
              "      <td>0.000000</td>\n",
              "      <td>0.000000</td>\n",
              "      <td>0.000000</td>\n",
              "    </tr>\n",
              "    <tr>\n",
              "      <th>75%</th>\n",
              "      <td>449.000000</td>\n",
              "      <td>8.000000</td>\n",
              "      <td>10.000000</td>\n",
              "      <td>65.000000</td>\n",
              "      <td>50.000000</td>\n",
              "      <td>1022.900000</td>\n",
              "      <td>0.000000</td>\n",
              "      <td>0.000000</td>\n",
              "      <td>0.050000</td>\n",
              "      <td>2.958333</td>\n",
              "    </tr>\n",
              "    <tr>\n",
              "      <th>max</th>\n",
              "      <td>7883.000000</td>\n",
              "      <td>21.000000</td>\n",
              "      <td>10.000000</td>\n",
              "      <td>89.000000</td>\n",
              "      <td>73.000000</td>\n",
              "      <td>1043.400000</td>\n",
              "      <td>0.280000</td>\n",
              "      <td>1.240000</td>\n",
              "      <td>2.100000</td>\n",
              "      <td>19.000000</td>\n",
              "    </tr>\n",
              "  </tbody>\n",
              "</table>\n",
              "</div>\n",
              "      <button class=\"colab-df-convert\" onclick=\"convertToInteractive('df-5e2e4b77-3063-403d-aec7-9a332f6776aa')\"\n",
              "              title=\"Convert this dataframe to an interactive table.\"\n",
              "              style=\"display:none;\">\n",
              "        \n",
              "  <svg xmlns=\"http://www.w3.org/2000/svg\" height=\"24px\"viewBox=\"0 0 24 24\"\n",
              "       width=\"24px\">\n",
              "    <path d=\"M0 0h24v24H0V0z\" fill=\"none\"/>\n",
              "    <path d=\"M18.56 5.44l.94 2.06.94-2.06 2.06-.94-2.06-.94-.94-2.06-.94 2.06-2.06.94zm-11 1L8.5 8.5l.94-2.06 2.06-.94-2.06-.94L8.5 2.5l-.94 2.06-2.06.94zm10 10l.94 2.06.94-2.06 2.06-.94-2.06-.94-.94-2.06-.94 2.06-2.06.94z\"/><path d=\"M17.41 7.96l-1.37-1.37c-.4-.4-.92-.59-1.43-.59-.52 0-1.04.2-1.43.59L10.3 9.45l-7.72 7.72c-.78.78-.78 2.05 0 2.83L4 21.41c.39.39.9.59 1.41.59.51 0 1.02-.2 1.41-.59l7.78-7.78 2.81-2.81c.8-.78.8-2.07 0-2.86zM5.41 20L4 18.59l7.72-7.72 1.47 1.35L5.41 20z\"/>\n",
              "  </svg>\n",
              "      </button>\n",
              "      \n",
              "  <style>\n",
              "    .colab-df-container {\n",
              "      display:flex;\n",
              "      flex-wrap:wrap;\n",
              "      gap: 12px;\n",
              "    }\n",
              "\n",
              "    .colab-df-convert {\n",
              "      background-color: #E8F0FE;\n",
              "      border: none;\n",
              "      border-radius: 50%;\n",
              "      cursor: pointer;\n",
              "      display: none;\n",
              "      fill: #1967D2;\n",
              "      height: 32px;\n",
              "      padding: 0 0 0 0;\n",
              "      width: 32px;\n",
              "    }\n",
              "\n",
              "    .colab-df-convert:hover {\n",
              "      background-color: #E2EBFA;\n",
              "      box-shadow: 0px 1px 2px rgba(60, 64, 67, 0.3), 0px 1px 3px 1px rgba(60, 64, 67, 0.15);\n",
              "      fill: #174EA6;\n",
              "    }\n",
              "\n",
              "    [theme=dark] .colab-df-convert {\n",
              "      background-color: #3B4455;\n",
              "      fill: #D2E3FC;\n",
              "    }\n",
              "\n",
              "    [theme=dark] .colab-df-convert:hover {\n",
              "      background-color: #434B5C;\n",
              "      box-shadow: 0px 1px 3px 1px rgba(0, 0, 0, 0.15);\n",
              "      filter: drop-shadow(0px 1px 2px rgba(0, 0, 0, 0.3));\n",
              "      fill: #FFFFFF;\n",
              "    }\n",
              "  </style>\n",
              "\n",
              "      <script>\n",
              "        const buttonEl =\n",
              "          document.querySelector('#df-5e2e4b77-3063-403d-aec7-9a332f6776aa button.colab-df-convert');\n",
              "        buttonEl.style.display =\n",
              "          google.colab.kernel.accessAllowed ? 'block' : 'none';\n",
              "\n",
              "        async function convertToInteractive(key) {\n",
              "          const element = document.querySelector('#df-5e2e4b77-3063-403d-aec7-9a332f6776aa');\n",
              "          const dataTable =\n",
              "            await google.colab.kernel.invokeFunction('convertToInteractive',\n",
              "                                                     [key], {});\n",
              "          if (!dataTable) return;\n",
              "\n",
              "          const docLinkHtml = 'Like what you see? Visit the ' +\n",
              "            '<a target=\"_blank\" href=https://colab.research.google.com/notebooks/data_table.ipynb>data table notebook</a>'\n",
              "            + ' to learn more about interactive tables.';\n",
              "          element.innerHTML = '';\n",
              "          dataTable['output_type'] = 'display_data';\n",
              "          await google.colab.output.renderOutput(dataTable, element);\n",
              "          const docLink = document.createElement('div');\n",
              "          docLink.innerHTML = docLinkHtml;\n",
              "          element.appendChild(docLink);\n",
              "        }\n",
              "      </script>\n",
              "    </div>\n",
              "  </div>\n",
              "  "
            ]
          },
          "metadata": {},
          "execution_count": 8
        }
      ]
    },
    {
      "cell_type": "markdown",
      "source": [
        "# **Let's check the count of each unique category in each of the categorical/object type variables.**"
      ],
      "metadata": {
        "id": "Q5Rxrtn7R9d9"
      }
    },
    {
      "cell_type": "code",
      "source": [
        "df['borough'].unique()"
      ],
      "metadata": {
        "colab": {
          "base_uri": "https://localhost:8080/"
        },
        "id": "JLG3JgG-R2OU",
        "outputId": "016be9ba-5ea3-47a3-cb29-aee2d441a5aa"
      },
      "execution_count": 9,
      "outputs": [
        {
          "output_type": "execute_result",
          "data": {
            "text/plain": [
              "array(['Bronx', 'Brooklyn', 'EWR', 'Manhattan', 'Queens', 'Staten Island',\n",
              "       nan], dtype=object)"
            ]
          },
          "metadata": {},
          "execution_count": 9
        }
      ]
    },
    {
      "cell_type": "code",
      "source": [
        "df['borough'].nunique()"
      ],
      "metadata": {
        "colab": {
          "base_uri": "https://localhost:8080/"
        },
        "id": "43rMtVwZSPBY",
        "outputId": "02534110-1769-4a6c-b32f-aa1dca727fe1"
      },
      "execution_count": 10,
      "outputs": [
        {
          "output_type": "execute_result",
          "data": {
            "text/plain": [
              "6"
            ]
          },
          "metadata": {},
          "execution_count": 10
        }
      ]
    },
    {
      "cell_type": "markdown",
      "source": [
        "\n",
        "\n",
        "*   We can observe that there are 6 unique borough present in dataset for New york.\n",
        "\n"
      ],
      "metadata": {
        "id": "CIdYjo4WSXE1"
      }
    },
    {
      "cell_type": "code",
      "source": [
        "df['hday'].value_counts(normalize=True)"
      ],
      "metadata": {
        "colab": {
          "base_uri": "https://localhost:8080/"
        },
        "id": "DLAvb53JSU3x",
        "outputId": "854581bb-1194-454e-9d0c-84cee2106fcc"
      },
      "execution_count": 11,
      "outputs": [
        {
          "output_type": "execute_result",
          "data": {
            "text/plain": [
              "N    0.961479\n",
              "Y    0.038521\n",
              "Name: hday, dtype: float64"
            ]
          },
          "metadata": {},
          "execution_count": 11
        }
      ]
    },
    {
      "cell_type": "code",
      "source": [
        "df['borough'].value_counts(normalize=True)"
      ],
      "metadata": {
        "colab": {
          "base_uri": "https://localhost:8080/"
        },
        "id": "YPQMI40MS0-e",
        "outputId": "1eb75dcd-51d2-43c2-8720-49fdb781e51d"
      },
      "execution_count": 12,
      "outputs": [
        {
          "output_type": "execute_result",
          "data": {
            "text/plain": [
              "Bronx            0.166667\n",
              "Brooklyn         0.166667\n",
              "EWR              0.166667\n",
              "Manhattan        0.166667\n",
              "Queens           0.166667\n",
              "Staten Island    0.166667\n",
              "Name: borough, dtype: float64"
            ]
          },
          "metadata": {},
          "execution_count": 12
        }
      ]
    },
    {
      "cell_type": "markdown",
      "source": [
        "# **Stanadardise the daytatypes**"
      ],
      "metadata": {
        "id": "La3wRwzgTOHX"
      }
    },
    {
      "cell_type": "code",
      "source": [
        "# let us change the data type of pickup_dt to date-time format.\n",
        "df['pickup_dt'][:5] "
      ],
      "metadata": {
        "colab": {
          "base_uri": "https://localhost:8080/"
        },
        "id": "g4wFjIMrS-sr",
        "outputId": "0fe6c9fd-e90d-4739-aa9a-d5f001f7bca2"
      },
      "execution_count": 13,
      "outputs": [
        {
          "output_type": "execute_result",
          "data": {
            "text/plain": [
              "0    01-01-2015 01:00\n",
              "1    01-01-2015 01:00\n",
              "2    01-01-2015 01:00\n",
              "3    01-01-2015 01:00\n",
              "4    01-01-2015 01:00\n",
              "Name: pickup_dt, dtype: object"
            ]
          },
          "metadata": {},
          "execution_count": 13
        }
      ]
    },
    {
      "cell_type": "code",
      "source": [
        "df['pickup_dt'] = pd.to_datetime(df['pickup_dt'], format=\"%d-%m-%Y %H:%M\")"
      ],
      "metadata": {
        "id": "noLPNzZaTzhF"
      },
      "execution_count": 14,
      "outputs": []
    },
    {
      "cell_type": "code",
      "source": [
        "df['pickup_dt'][:5]\n",
        "# yyyy-mm-dd H:M:S"
      ],
      "metadata": {
        "colab": {
          "base_uri": "https://localhost:8080/"
        },
        "id": "4g-XzWPNURq2",
        "outputId": "8a7c1013-18d4-4550-fcee-d89b7a43ec8f"
      },
      "execution_count": 15,
      "outputs": [
        {
          "output_type": "execute_result",
          "data": {
            "text/plain": [
              "0   2015-01-01 01:00:00\n",
              "1   2015-01-01 01:00:00\n",
              "2   2015-01-01 01:00:00\n",
              "3   2015-01-01 01:00:00\n",
              "4   2015-01-01 01:00:00\n",
              "Name: pickup_dt, dtype: datetime64[ns]"
            ]
          },
          "metadata": {},
          "execution_count": 15
        }
      ]
    },
    {
      "cell_type": "markdown",
      "source": [
        "Let's check the data types of the columns again to ensure that the change has been executed properly."
      ],
      "metadata": {
        "id": "IoSIWZ9jUlbx"
      }
    },
    {
      "cell_type": "code",
      "source": [
        "df.info()"
      ],
      "metadata": {
        "colab": {
          "base_uri": "https://localhost:8080/"
        },
        "id": "YcrRoU45UbY2",
        "outputId": "94e18299-1cdf-43e7-bc9a-e2aa081e7870"
      },
      "execution_count": 16,
      "outputs": [
        {
          "output_type": "stream",
          "name": "stdout",
          "text": [
            "<class 'pandas.core.frame.DataFrame'>\n",
            "RangeIndex: 29101 entries, 0 to 29100\n",
            "Data columns (total 13 columns):\n",
            " #   Column     Non-Null Count  Dtype         \n",
            "---  ------     --------------  -----         \n",
            " 0   pickup_dt  29101 non-null  datetime64[ns]\n",
            " 1   borough    26058 non-null  object        \n",
            " 2   pickups    29101 non-null  int64         \n",
            " 3   spd        29101 non-null  float64       \n",
            " 4   vsb        29101 non-null  float64       \n",
            " 5   temp       28742 non-null  float64       \n",
            " 6   dewp       29101 non-null  float64       \n",
            " 7   slp        29101 non-null  float64       \n",
            " 8   pcp01      29101 non-null  float64       \n",
            " 9   pcp06      29101 non-null  float64       \n",
            " 10  pcp24      29101 non-null  float64       \n",
            " 11  sd         29101 non-null  float64       \n",
            " 12  hday       29101 non-null  object        \n",
            "dtypes: datetime64[ns](1), float64(9), int64(1), object(2)\n",
            "memory usage: 2.9+ MB\n"
          ]
        }
      ]
    },
    {
      "cell_type": "markdown",
      "source": [
        "Now let's check the range of time period for which the data has been collected."
      ],
      "metadata": {
        "id": "HRO3zoojVFJQ"
      }
    },
    {
      "cell_type": "code",
      "source": [
        "df['pickup_dt'].min() # Start Date"
      ],
      "metadata": {
        "colab": {
          "base_uri": "https://localhost:8080/"
        },
        "id": "La0A2rwNVBkm",
        "outputId": "803a004a-3378-4621-de0a-09e3232ea158"
      },
      "execution_count": 17,
      "outputs": [
        {
          "output_type": "execute_result",
          "data": {
            "text/plain": [
              "Timestamp('2015-01-01 01:00:00')"
            ]
          },
          "metadata": {},
          "execution_count": 17
        }
      ]
    },
    {
      "cell_type": "code",
      "source": [
        "df['pickup_dt'].max() # End Date"
      ],
      "metadata": {
        "colab": {
          "base_uri": "https://localhost:8080/"
        },
        "id": "bIDxEiiDVcqI",
        "outputId": "663ef29c-9edd-4dcc-d5ae-5c93996a2ed5"
      },
      "execution_count": 18,
      "outputs": [
        {
          "output_type": "execute_result",
          "data": {
            "text/plain": [
              "Timestamp('2015-06-30 23:00:00')"
            ]
          },
          "metadata": {},
          "execution_count": 18
        }
      ]
    },
    {
      "cell_type": "code",
      "source": [
        "df.head()"
      ],
      "metadata": {
        "colab": {
          "base_uri": "https://localhost:8080/",
          "height": 206
        },
        "id": "vtDdUw3JV4Dj",
        "outputId": "1443a126-96cb-46c3-a6b5-102fe028343d"
      },
      "execution_count": 19,
      "outputs": [
        {
          "output_type": "execute_result",
          "data": {
            "text/plain": [
              "            pickup_dt    borough  pickups  spd   vsb  temp  dewp     slp  \\\n",
              "0 2015-01-01 01:00:00      Bronx      152  5.0  10.0  30.0   7.0  1023.5   \n",
              "1 2015-01-01 01:00:00   Brooklyn     1519  5.0  10.0   NaN   7.0  1023.5   \n",
              "2 2015-01-01 01:00:00        EWR        0  5.0  10.0  30.0   7.0  1023.5   \n",
              "3 2015-01-01 01:00:00  Manhattan     5258  5.0  10.0  30.0   7.0  1023.5   \n",
              "4 2015-01-01 01:00:00     Queens      405  5.0  10.0  30.0   7.0  1023.5   \n",
              "\n",
              "   pcp01  pcp06  pcp24   sd hday  \n",
              "0    0.0    0.0    0.0  0.0    Y  \n",
              "1    0.0    0.0    0.0  0.0    Y  \n",
              "2    0.0    0.0    0.0  0.0    Y  \n",
              "3    0.0    0.0    0.0  0.0    Y  \n",
              "4    0.0    0.0    0.0  0.0    Y  "
            ],
            "text/html": [
              "\n",
              "  <div id=\"df-880dc7ba-45fd-407e-98ee-5c77266667b9\">\n",
              "    <div class=\"colab-df-container\">\n",
              "      <div>\n",
              "<style scoped>\n",
              "    .dataframe tbody tr th:only-of-type {\n",
              "        vertical-align: middle;\n",
              "    }\n",
              "\n",
              "    .dataframe tbody tr th {\n",
              "        vertical-align: top;\n",
              "    }\n",
              "\n",
              "    .dataframe thead th {\n",
              "        text-align: right;\n",
              "    }\n",
              "</style>\n",
              "<table border=\"1\" class=\"dataframe\">\n",
              "  <thead>\n",
              "    <tr style=\"text-align: right;\">\n",
              "      <th></th>\n",
              "      <th>pickup_dt</th>\n",
              "      <th>borough</th>\n",
              "      <th>pickups</th>\n",
              "      <th>spd</th>\n",
              "      <th>vsb</th>\n",
              "      <th>temp</th>\n",
              "      <th>dewp</th>\n",
              "      <th>slp</th>\n",
              "      <th>pcp01</th>\n",
              "      <th>pcp06</th>\n",
              "      <th>pcp24</th>\n",
              "      <th>sd</th>\n",
              "      <th>hday</th>\n",
              "    </tr>\n",
              "  </thead>\n",
              "  <tbody>\n",
              "    <tr>\n",
              "      <th>0</th>\n",
              "      <td>2015-01-01 01:00:00</td>\n",
              "      <td>Bronx</td>\n",
              "      <td>152</td>\n",
              "      <td>5.0</td>\n",
              "      <td>10.0</td>\n",
              "      <td>30.0</td>\n",
              "      <td>7.0</td>\n",
              "      <td>1023.5</td>\n",
              "      <td>0.0</td>\n",
              "      <td>0.0</td>\n",
              "      <td>0.0</td>\n",
              "      <td>0.0</td>\n",
              "      <td>Y</td>\n",
              "    </tr>\n",
              "    <tr>\n",
              "      <th>1</th>\n",
              "      <td>2015-01-01 01:00:00</td>\n",
              "      <td>Brooklyn</td>\n",
              "      <td>1519</td>\n",
              "      <td>5.0</td>\n",
              "      <td>10.0</td>\n",
              "      <td>NaN</td>\n",
              "      <td>7.0</td>\n",
              "      <td>1023.5</td>\n",
              "      <td>0.0</td>\n",
              "      <td>0.0</td>\n",
              "      <td>0.0</td>\n",
              "      <td>0.0</td>\n",
              "      <td>Y</td>\n",
              "    </tr>\n",
              "    <tr>\n",
              "      <th>2</th>\n",
              "      <td>2015-01-01 01:00:00</td>\n",
              "      <td>EWR</td>\n",
              "      <td>0</td>\n",
              "      <td>5.0</td>\n",
              "      <td>10.0</td>\n",
              "      <td>30.0</td>\n",
              "      <td>7.0</td>\n",
              "      <td>1023.5</td>\n",
              "      <td>0.0</td>\n",
              "      <td>0.0</td>\n",
              "      <td>0.0</td>\n",
              "      <td>0.0</td>\n",
              "      <td>Y</td>\n",
              "    </tr>\n",
              "    <tr>\n",
              "      <th>3</th>\n",
              "      <td>2015-01-01 01:00:00</td>\n",
              "      <td>Manhattan</td>\n",
              "      <td>5258</td>\n",
              "      <td>5.0</td>\n",
              "      <td>10.0</td>\n",
              "      <td>30.0</td>\n",
              "      <td>7.0</td>\n",
              "      <td>1023.5</td>\n",
              "      <td>0.0</td>\n",
              "      <td>0.0</td>\n",
              "      <td>0.0</td>\n",
              "      <td>0.0</td>\n",
              "      <td>Y</td>\n",
              "    </tr>\n",
              "    <tr>\n",
              "      <th>4</th>\n",
              "      <td>2015-01-01 01:00:00</td>\n",
              "      <td>Queens</td>\n",
              "      <td>405</td>\n",
              "      <td>5.0</td>\n",
              "      <td>10.0</td>\n",
              "      <td>30.0</td>\n",
              "      <td>7.0</td>\n",
              "      <td>1023.5</td>\n",
              "      <td>0.0</td>\n",
              "      <td>0.0</td>\n",
              "      <td>0.0</td>\n",
              "      <td>0.0</td>\n",
              "      <td>Y</td>\n",
              "    </tr>\n",
              "  </tbody>\n",
              "</table>\n",
              "</div>\n",
              "      <button class=\"colab-df-convert\" onclick=\"convertToInteractive('df-880dc7ba-45fd-407e-98ee-5c77266667b9')\"\n",
              "              title=\"Convert this dataframe to an interactive table.\"\n",
              "              style=\"display:none;\">\n",
              "        \n",
              "  <svg xmlns=\"http://www.w3.org/2000/svg\" height=\"24px\"viewBox=\"0 0 24 24\"\n",
              "       width=\"24px\">\n",
              "    <path d=\"M0 0h24v24H0V0z\" fill=\"none\"/>\n",
              "    <path d=\"M18.56 5.44l.94 2.06.94-2.06 2.06-.94-2.06-.94-.94-2.06-.94 2.06-2.06.94zm-11 1L8.5 8.5l.94-2.06 2.06-.94-2.06-.94L8.5 2.5l-.94 2.06-2.06.94zm10 10l.94 2.06.94-2.06 2.06-.94-2.06-.94-.94-2.06-.94 2.06-2.06.94z\"/><path d=\"M17.41 7.96l-1.37-1.37c-.4-.4-.92-.59-1.43-.59-.52 0-1.04.2-1.43.59L10.3 9.45l-7.72 7.72c-.78.78-.78 2.05 0 2.83L4 21.41c.39.39.9.59 1.41.59.51 0 1.02-.2 1.41-.59l7.78-7.78 2.81-2.81c.8-.78.8-2.07 0-2.86zM5.41 20L4 18.59l7.72-7.72 1.47 1.35L5.41 20z\"/>\n",
              "  </svg>\n",
              "      </button>\n",
              "      \n",
              "  <style>\n",
              "    .colab-df-container {\n",
              "      display:flex;\n",
              "      flex-wrap:wrap;\n",
              "      gap: 12px;\n",
              "    }\n",
              "\n",
              "    .colab-df-convert {\n",
              "      background-color: #E8F0FE;\n",
              "      border: none;\n",
              "      border-radius: 50%;\n",
              "      cursor: pointer;\n",
              "      display: none;\n",
              "      fill: #1967D2;\n",
              "      height: 32px;\n",
              "      padding: 0 0 0 0;\n",
              "      width: 32px;\n",
              "    }\n",
              "\n",
              "    .colab-df-convert:hover {\n",
              "      background-color: #E2EBFA;\n",
              "      box-shadow: 0px 1px 2px rgba(60, 64, 67, 0.3), 0px 1px 3px 1px rgba(60, 64, 67, 0.15);\n",
              "      fill: #174EA6;\n",
              "    }\n",
              "\n",
              "    [theme=dark] .colab-df-convert {\n",
              "      background-color: #3B4455;\n",
              "      fill: #D2E3FC;\n",
              "    }\n",
              "\n",
              "    [theme=dark] .colab-df-convert:hover {\n",
              "      background-color: #434B5C;\n",
              "      box-shadow: 0px 1px 3px 1px rgba(0, 0, 0, 0.15);\n",
              "      filter: drop-shadow(0px 1px 2px rgba(0, 0, 0, 0.3));\n",
              "      fill: #FFFFFF;\n",
              "    }\n",
              "  </style>\n",
              "\n",
              "      <script>\n",
              "        const buttonEl =\n",
              "          document.querySelector('#df-880dc7ba-45fd-407e-98ee-5c77266667b9 button.colab-df-convert');\n",
              "        buttonEl.style.display =\n",
              "          google.colab.kernel.accessAllowed ? 'block' : 'none';\n",
              "\n",
              "        async function convertToInteractive(key) {\n",
              "          const element = document.querySelector('#df-880dc7ba-45fd-407e-98ee-5c77266667b9');\n",
              "          const dataTable =\n",
              "            await google.colab.kernel.invokeFunction('convertToInteractive',\n",
              "                                                     [key], {});\n",
              "          if (!dataTable) return;\n",
              "\n",
              "          const docLinkHtml = 'Like what you see? Visit the ' +\n",
              "            '<a target=\"_blank\" href=https://colab.research.google.com/notebooks/data_table.ipynb>data table notebook</a>'\n",
              "            + ' to learn more about interactive tables.';\n",
              "          element.innerHTML = '';\n",
              "          dataTable['output_type'] = 'display_data';\n",
              "          await google.colab.output.renderOutput(dataTable, element);\n",
              "          const docLink = document.createElement('div');\n",
              "          docLink.innerHTML = docLinkHtml;\n",
              "          element.appendChild(docLink);\n",
              "        }\n",
              "      </script>\n",
              "    </div>\n",
              "  </div>\n",
              "  "
            ]
          },
          "metadata": {},
          "execution_count": 19
        }
      ]
    },
    {
      "cell_type": "markdown",
      "source": [
        "# **Extracting date parts from pickup date**"
      ],
      "metadata": {
        "id": "r5UpZ83FWEZv"
      }
    },
    {
      "cell_type": "code",
      "source": [
        "# df.pickup_dt\n",
        "\n",
        "# <df><column>.dt.display\n",
        "# multiple functions"
      ],
      "metadata": {
        "id": "5wZ4JubnWBJE"
      },
      "execution_count": null,
      "outputs": []
    },
    {
      "cell_type": "code",
      "source": [
        "# Extracting  date parts  from pickup date\n",
        "df['start_year'] = df.pickup_dt.dt.year # extracting the year from the date\n",
        "df['start_month'] = df.pickup_dt.dt.month_name() # extracting the month name from the date\n",
        "df['start_hour'] = df.pickup_dt.dt.hour # extracting the hour from the time\n",
        "df['start_day'] = df.pickup_dt.dt.day # extracting the day from the date\n",
        "df['week_day'] = df.pickup_dt.dt.day_name() # extracting the day of the week from the date"
      ],
      "metadata": {
        "id": "zWPMkpWCWpwq"
      },
      "execution_count": 20,
      "outputs": []
    },
    {
      "cell_type": "code",
      "source": [
        "df.head()"
      ],
      "metadata": {
        "colab": {
          "base_uri": "https://localhost:8080/",
          "height": 206
        },
        "id": "BsAM9oIOXNO_",
        "outputId": "df6c1ce0-b96f-41d0-e53a-ccf96184aab8"
      },
      "execution_count": 21,
      "outputs": [
        {
          "output_type": "execute_result",
          "data": {
            "text/plain": [
              "            pickup_dt    borough  pickups  spd   vsb  temp  dewp     slp  \\\n",
              "0 2015-01-01 01:00:00      Bronx      152  5.0  10.0  30.0   7.0  1023.5   \n",
              "1 2015-01-01 01:00:00   Brooklyn     1519  5.0  10.0   NaN   7.0  1023.5   \n",
              "2 2015-01-01 01:00:00        EWR        0  5.0  10.0  30.0   7.0  1023.5   \n",
              "3 2015-01-01 01:00:00  Manhattan     5258  5.0  10.0  30.0   7.0  1023.5   \n",
              "4 2015-01-01 01:00:00     Queens      405  5.0  10.0  30.0   7.0  1023.5   \n",
              "\n",
              "   pcp01  pcp06  pcp24   sd hday  start_year start_month  start_hour  \\\n",
              "0    0.0    0.0    0.0  0.0    Y        2015     January           1   \n",
              "1    0.0    0.0    0.0  0.0    Y        2015     January           1   \n",
              "2    0.0    0.0    0.0  0.0    Y        2015     January           1   \n",
              "3    0.0    0.0    0.0  0.0    Y        2015     January           1   \n",
              "4    0.0    0.0    0.0  0.0    Y        2015     January           1   \n",
              "\n",
              "   start_day  week_day  \n",
              "0          1  Thursday  \n",
              "1          1  Thursday  \n",
              "2          1  Thursday  \n",
              "3          1  Thursday  \n",
              "4          1  Thursday  "
            ],
            "text/html": [
              "\n",
              "  <div id=\"df-565df92e-33a2-45c4-8a06-a4bc24bd4083\">\n",
              "    <div class=\"colab-df-container\">\n",
              "      <div>\n",
              "<style scoped>\n",
              "    .dataframe tbody tr th:only-of-type {\n",
              "        vertical-align: middle;\n",
              "    }\n",
              "\n",
              "    .dataframe tbody tr th {\n",
              "        vertical-align: top;\n",
              "    }\n",
              "\n",
              "    .dataframe thead th {\n",
              "        text-align: right;\n",
              "    }\n",
              "</style>\n",
              "<table border=\"1\" class=\"dataframe\">\n",
              "  <thead>\n",
              "    <tr style=\"text-align: right;\">\n",
              "      <th></th>\n",
              "      <th>pickup_dt</th>\n",
              "      <th>borough</th>\n",
              "      <th>pickups</th>\n",
              "      <th>spd</th>\n",
              "      <th>vsb</th>\n",
              "      <th>temp</th>\n",
              "      <th>dewp</th>\n",
              "      <th>slp</th>\n",
              "      <th>pcp01</th>\n",
              "      <th>pcp06</th>\n",
              "      <th>pcp24</th>\n",
              "      <th>sd</th>\n",
              "      <th>hday</th>\n",
              "      <th>start_year</th>\n",
              "      <th>start_month</th>\n",
              "      <th>start_hour</th>\n",
              "      <th>start_day</th>\n",
              "      <th>week_day</th>\n",
              "    </tr>\n",
              "  </thead>\n",
              "  <tbody>\n",
              "    <tr>\n",
              "      <th>0</th>\n",
              "      <td>2015-01-01 01:00:00</td>\n",
              "      <td>Bronx</td>\n",
              "      <td>152</td>\n",
              "      <td>5.0</td>\n",
              "      <td>10.0</td>\n",
              "      <td>30.0</td>\n",
              "      <td>7.0</td>\n",
              "      <td>1023.5</td>\n",
              "      <td>0.0</td>\n",
              "      <td>0.0</td>\n",
              "      <td>0.0</td>\n",
              "      <td>0.0</td>\n",
              "      <td>Y</td>\n",
              "      <td>2015</td>\n",
              "      <td>January</td>\n",
              "      <td>1</td>\n",
              "      <td>1</td>\n",
              "      <td>Thursday</td>\n",
              "    </tr>\n",
              "    <tr>\n",
              "      <th>1</th>\n",
              "      <td>2015-01-01 01:00:00</td>\n",
              "      <td>Brooklyn</td>\n",
              "      <td>1519</td>\n",
              "      <td>5.0</td>\n",
              "      <td>10.0</td>\n",
              "      <td>NaN</td>\n",
              "      <td>7.0</td>\n",
              "      <td>1023.5</td>\n",
              "      <td>0.0</td>\n",
              "      <td>0.0</td>\n",
              "      <td>0.0</td>\n",
              "      <td>0.0</td>\n",
              "      <td>Y</td>\n",
              "      <td>2015</td>\n",
              "      <td>January</td>\n",
              "      <td>1</td>\n",
              "      <td>1</td>\n",
              "      <td>Thursday</td>\n",
              "    </tr>\n",
              "    <tr>\n",
              "      <th>2</th>\n",
              "      <td>2015-01-01 01:00:00</td>\n",
              "      <td>EWR</td>\n",
              "      <td>0</td>\n",
              "      <td>5.0</td>\n",
              "      <td>10.0</td>\n",
              "      <td>30.0</td>\n",
              "      <td>7.0</td>\n",
              "      <td>1023.5</td>\n",
              "      <td>0.0</td>\n",
              "      <td>0.0</td>\n",
              "      <td>0.0</td>\n",
              "      <td>0.0</td>\n",
              "      <td>Y</td>\n",
              "      <td>2015</td>\n",
              "      <td>January</td>\n",
              "      <td>1</td>\n",
              "      <td>1</td>\n",
              "      <td>Thursday</td>\n",
              "    </tr>\n",
              "    <tr>\n",
              "      <th>3</th>\n",
              "      <td>2015-01-01 01:00:00</td>\n",
              "      <td>Manhattan</td>\n",
              "      <td>5258</td>\n",
              "      <td>5.0</td>\n",
              "      <td>10.0</td>\n",
              "      <td>30.0</td>\n",
              "      <td>7.0</td>\n",
              "      <td>1023.5</td>\n",
              "      <td>0.0</td>\n",
              "      <td>0.0</td>\n",
              "      <td>0.0</td>\n",
              "      <td>0.0</td>\n",
              "      <td>Y</td>\n",
              "      <td>2015</td>\n",
              "      <td>January</td>\n",
              "      <td>1</td>\n",
              "      <td>1</td>\n",
              "      <td>Thursday</td>\n",
              "    </tr>\n",
              "    <tr>\n",
              "      <th>4</th>\n",
              "      <td>2015-01-01 01:00:00</td>\n",
              "      <td>Queens</td>\n",
              "      <td>405</td>\n",
              "      <td>5.0</td>\n",
              "      <td>10.0</td>\n",
              "      <td>30.0</td>\n",
              "      <td>7.0</td>\n",
              "      <td>1023.5</td>\n",
              "      <td>0.0</td>\n",
              "      <td>0.0</td>\n",
              "      <td>0.0</td>\n",
              "      <td>0.0</td>\n",
              "      <td>Y</td>\n",
              "      <td>2015</td>\n",
              "      <td>January</td>\n",
              "      <td>1</td>\n",
              "      <td>1</td>\n",
              "      <td>Thursday</td>\n",
              "    </tr>\n",
              "  </tbody>\n",
              "</table>\n",
              "</div>\n",
              "      <button class=\"colab-df-convert\" onclick=\"convertToInteractive('df-565df92e-33a2-45c4-8a06-a4bc24bd4083')\"\n",
              "              title=\"Convert this dataframe to an interactive table.\"\n",
              "              style=\"display:none;\">\n",
              "        \n",
              "  <svg xmlns=\"http://www.w3.org/2000/svg\" height=\"24px\"viewBox=\"0 0 24 24\"\n",
              "       width=\"24px\">\n",
              "    <path d=\"M0 0h24v24H0V0z\" fill=\"none\"/>\n",
              "    <path d=\"M18.56 5.44l.94 2.06.94-2.06 2.06-.94-2.06-.94-.94-2.06-.94 2.06-2.06.94zm-11 1L8.5 8.5l.94-2.06 2.06-.94-2.06-.94L8.5 2.5l-.94 2.06-2.06.94zm10 10l.94 2.06.94-2.06 2.06-.94-2.06-.94-.94-2.06-.94 2.06-2.06.94z\"/><path d=\"M17.41 7.96l-1.37-1.37c-.4-.4-.92-.59-1.43-.59-.52 0-1.04.2-1.43.59L10.3 9.45l-7.72 7.72c-.78.78-.78 2.05 0 2.83L4 21.41c.39.39.9.59 1.41.59.51 0 1.02-.2 1.41-.59l7.78-7.78 2.81-2.81c.8-.78.8-2.07 0-2.86zM5.41 20L4 18.59l7.72-7.72 1.47 1.35L5.41 20z\"/>\n",
              "  </svg>\n",
              "      </button>\n",
              "      \n",
              "  <style>\n",
              "    .colab-df-container {\n",
              "      display:flex;\n",
              "      flex-wrap:wrap;\n",
              "      gap: 12px;\n",
              "    }\n",
              "\n",
              "    .colab-df-convert {\n",
              "      background-color: #E8F0FE;\n",
              "      border: none;\n",
              "      border-radius: 50%;\n",
              "      cursor: pointer;\n",
              "      display: none;\n",
              "      fill: #1967D2;\n",
              "      height: 32px;\n",
              "      padding: 0 0 0 0;\n",
              "      width: 32px;\n",
              "    }\n",
              "\n",
              "    .colab-df-convert:hover {\n",
              "      background-color: #E2EBFA;\n",
              "      box-shadow: 0px 1px 2px rgba(60, 64, 67, 0.3), 0px 1px 3px 1px rgba(60, 64, 67, 0.15);\n",
              "      fill: #174EA6;\n",
              "    }\n",
              "\n",
              "    [theme=dark] .colab-df-convert {\n",
              "      background-color: #3B4455;\n",
              "      fill: #D2E3FC;\n",
              "    }\n",
              "\n",
              "    [theme=dark] .colab-df-convert:hover {\n",
              "      background-color: #434B5C;\n",
              "      box-shadow: 0px 1px 3px 1px rgba(0, 0, 0, 0.15);\n",
              "      filter: drop-shadow(0px 1px 2px rgba(0, 0, 0, 0.3));\n",
              "      fill: #FFFFFF;\n",
              "    }\n",
              "  </style>\n",
              "\n",
              "      <script>\n",
              "        const buttonEl =\n",
              "          document.querySelector('#df-565df92e-33a2-45c4-8a06-a4bc24bd4083 button.colab-df-convert');\n",
              "        buttonEl.style.display =\n",
              "          google.colab.kernel.accessAllowed ? 'block' : 'none';\n",
              "\n",
              "        async function convertToInteractive(key) {\n",
              "          const element = document.querySelector('#df-565df92e-33a2-45c4-8a06-a4bc24bd4083');\n",
              "          const dataTable =\n",
              "            await google.colab.kernel.invokeFunction('convertToInteractive',\n",
              "                                                     [key], {});\n",
              "          if (!dataTable) return;\n",
              "\n",
              "          const docLinkHtml = 'Like what you see? Visit the ' +\n",
              "            '<a target=\"_blank\" href=https://colab.research.google.com/notebooks/data_table.ipynb>data table notebook</a>'\n",
              "            + ' to learn more about interactive tables.';\n",
              "          element.innerHTML = '';\n",
              "          dataTable['output_type'] = 'display_data';\n",
              "          await google.colab.output.renderOutput(dataTable, element);\n",
              "          const docLink = document.createElement('div');\n",
              "          docLink.innerHTML = docLinkHtml;\n",
              "          element.appendChild(docLink);\n",
              "        }\n",
              "      </script>\n",
              "    </div>\n",
              "  </div>\n",
              "  "
            ]
          },
          "metadata": {},
          "execution_count": 21
        }
      ]
    },
    {
      "cell_type": "code",
      "source": [
        "df.shape"
      ],
      "metadata": {
        "colab": {
          "base_uri": "https://localhost:8080/"
        },
        "id": "9t2trEBpXPk3",
        "outputId": "36f51a21-70ba-4fc2-d58d-cd82e2536534"
      },
      "execution_count": 22,
      "outputs": [
        {
          "output_type": "execute_result",
          "data": {
            "text/plain": [
              "(29101, 18)"
            ]
          },
          "metadata": {},
          "execution_count": 22
        }
      ]
    },
    {
      "cell_type": "markdown",
      "source": [
        "We have earlier seen that the `borough` and `temp` columns have missing values in them. So let us see them in detail before moving on to do our EDA."
      ],
      "metadata": {
        "id": "dDFHXpLfXdGn"
      }
    },
    {
      "cell_type": "markdown",
      "source": [
        "# **Missing value treatment**"
      ],
      "metadata": {
        "id": "GbU9iJQ8Y59I"
      }
    },
    {
      "cell_type": "markdown",
      "source": [
        "One of the commonly used method to deal with the missing values is to impute them with central tendencies - mean,median and mode of a column."
      ],
      "metadata": {
        "id": "2AEBDWJfZAob"
      }
    },
    {
      "cell_type": "code",
      "source": [
        "# checking missing values across each columns\n",
        "df.isnull().sum()"
      ],
      "metadata": {
        "colab": {
          "base_uri": "https://localhost:8080/"
        },
        "id": "0iDp23KaXW91",
        "outputId": "50bc5f88-859f-43c1-e7eb-4b994fbc9477"
      },
      "execution_count": 23,
      "outputs": [
        {
          "output_type": "execute_result",
          "data": {
            "text/plain": [
              "pickup_dt         0\n",
              "borough        3043\n",
              "pickups           0\n",
              "spd               0\n",
              "vsb               0\n",
              "temp            359\n",
              "dewp              0\n",
              "slp               0\n",
              "pcp01             0\n",
              "pcp06             0\n",
              "pcp24             0\n",
              "sd                0\n",
              "hday              0\n",
              "start_year        0\n",
              "start_month       0\n",
              "start_hour        0\n",
              "start_day         0\n",
              "week_day          0\n",
              "dtype: int64"
            ]
          },
          "metadata": {},
          "execution_count": 23
        }
      ]
    },
    {
      "cell_type": "markdown",
      "source": [
        "Let us first see the missing value of the `borough` column in detail."
      ],
      "metadata": {
        "id": "UYbOopFSav3I"
      }
    },
    {
      "cell_type": "code",
      "source": [
        "# Checking the missing values further \n",
        "df.borough.value_counts(normalize=True, dropna=False)"
      ],
      "metadata": {
        "colab": {
          "base_uri": "https://localhost:8080/"
        },
        "id": "GpGd-UjGZ1xX",
        "outputId": "47c32ec5-94fb-4734-8c26-4a75c9eaeb2c"
      },
      "execution_count": 24,
      "outputs": [
        {
          "output_type": "execute_result",
          "data": {
            "text/plain": [
              "Bronx            0.149239\n",
              "Brooklyn         0.149239\n",
              "EWR              0.149239\n",
              "Manhattan        0.149239\n",
              "Queens           0.149239\n",
              "Staten Island    0.149239\n",
              "NaN              0.104567\n",
              "Name: borough, dtype: float64"
            ]
          },
          "metadata": {},
          "execution_count": 24
        }
      ]
    },
    {
      "cell_type": "code",
      "source": [
        "# Replace the null values present in the borough column with a new label as unknown \n",
        "df['borough'].fillna('Unknown', inplace=True)"
      ],
      "metadata": {
        "id": "puu2R7qSbV8R"
      },
      "execution_count": 25,
      "outputs": []
    },
    {
      "cell_type": "code",
      "source": [
        "df.borough.value_counts(normalize=True, dropna=False)"
      ],
      "metadata": {
        "colab": {
          "base_uri": "https://localhost:8080/"
        },
        "id": "94NHvVD2b4GN",
        "outputId": "b84aa0ef-5784-4f41-af28-e6681850add5"
      },
      "execution_count": 26,
      "outputs": [
        {
          "output_type": "execute_result",
          "data": {
            "text/plain": [
              "Bronx            0.149239\n",
              "Brooklyn         0.149239\n",
              "EWR              0.149239\n",
              "Manhattan        0.149239\n",
              "Queens           0.149239\n",
              "Staten Island    0.149239\n",
              "Unknown          0.104567\n",
              "Name: borough, dtype: float64"
            ]
          },
          "metadata": {},
          "execution_count": 26
        }
      ]
    },
    {
      "cell_type": "code",
      "source": [
        "df.isnull().sum()"
      ],
      "metadata": {
        "colab": {
          "base_uri": "https://localhost:8080/"
        },
        "id": "jvhO6cAbcAyd",
        "outputId": "ec2b9230-68b6-4f19-ba76-31021610359a"
      },
      "execution_count": 27,
      "outputs": [
        {
          "output_type": "execute_result",
          "data": {
            "text/plain": [
              "pickup_dt        0\n",
              "borough          0\n",
              "pickups          0\n",
              "spd              0\n",
              "vsb              0\n",
              "temp           359\n",
              "dewp             0\n",
              "slp              0\n",
              "pcp01            0\n",
              "pcp06            0\n",
              "pcp24            0\n",
              "sd               0\n",
              "hday             0\n",
              "start_year       0\n",
              "start_month      0\n",
              "start_hour       0\n",
              "start_day        0\n",
              "week_day         0\n",
              "dtype: int64"
            ]
          },
          "metadata": {},
          "execution_count": 27
        }
      ]
    },
    {
      "cell_type": "markdown",
      "source": [
        "The missing values in the `borough` column have been treated. Let us move on to `temp` variable and see how to deal with the missing values present there."
      ],
      "metadata": {
        "id": "SCRJKeiRcOcB"
      }
    },
    {
      "cell_type": "code",
      "source": [
        "df.loc[df['temp'].isnull() == True]"
      ],
      "metadata": {
        "colab": {
          "base_uri": "https://localhost:8080/",
          "height": 423
        },
        "id": "cNCpJTbZcLV4",
        "outputId": "72d2b51b-8415-4024-87ae-5b9c9eacd603"
      },
      "execution_count": 28,
      "outputs": [
        {
          "output_type": "execute_result",
          "data": {
            "text/plain": [
              "               pickup_dt   borough  pickups  spd   vsb  temp  dewp     slp  \\\n",
              "1    2015-01-01 01:00:00  Brooklyn     1519  5.0  10.0   NaN   7.0  1023.5   \n",
              "8    2015-01-01 02:00:00  Brooklyn     1229  3.0  10.0   NaN   6.0  1023.0   \n",
              "15   2015-01-01 03:00:00  Brooklyn     1601  5.0  10.0   NaN   8.0  1022.3   \n",
              "22   2015-01-01 04:00:00  Brooklyn     1390  5.0  10.0   NaN   9.0  1022.0   \n",
              "29   2015-01-01 05:00:00  Brooklyn      759  5.0  10.0   NaN   9.0  1021.8   \n",
              "...                  ...       ...      ...  ...   ...   ...   ...     ...   \n",
              "2334 2015-01-15 19:00:00  Brooklyn      594  5.0  10.0   NaN  13.0  1016.2   \n",
              "2340 2015-01-15 20:00:00  Brooklyn      620  5.0  10.0   NaN  13.0  1015.5   \n",
              "2347 2015-01-15 21:00:00  Brooklyn      607  3.0  10.0   NaN  14.0  1015.4   \n",
              "2354 2015-01-15 22:00:00  Brooklyn      648  9.0  10.0   NaN  14.0  1015.4   \n",
              "2361 2015-01-15 23:00:00  Brooklyn      602  5.0  10.0   NaN  16.0  1015.4   \n",
              "\n",
              "      pcp01  pcp06  pcp24   sd hday  start_year start_month  start_hour  \\\n",
              "1       0.0    0.0    0.0  0.0    Y        2015     January           1   \n",
              "8       0.0    0.0    0.0  0.0    Y        2015     January           2   \n",
              "15      0.0    0.0    0.0  0.0    Y        2015     January           3   \n",
              "22      0.0    0.0    0.0  0.0    Y        2015     January           4   \n",
              "29      0.0    0.0    0.0  0.0    Y        2015     January           5   \n",
              "...     ...    ...    ...  ...  ...         ...         ...         ...   \n",
              "2334    0.0    0.0    0.0  0.0    N        2015     January          19   \n",
              "2340    0.0    0.0    0.0  0.0    N        2015     January          20   \n",
              "2347    0.0    0.0    0.0  0.0    N        2015     January          21   \n",
              "2354    0.0    0.0    0.0  0.0    N        2015     January          22   \n",
              "2361    0.0    0.0    0.0  0.0    N        2015     January          23   \n",
              "\n",
              "      start_day  week_day  \n",
              "1             1  Thursday  \n",
              "8             1  Thursday  \n",
              "15            1  Thursday  \n",
              "22            1  Thursday  \n",
              "29            1  Thursday  \n",
              "...         ...       ...  \n",
              "2334         15  Thursday  \n",
              "2340         15  Thursday  \n",
              "2347         15  Thursday  \n",
              "2354         15  Thursday  \n",
              "2361         15  Thursday  \n",
              "\n",
              "[359 rows x 18 columns]"
            ],
            "text/html": [
              "\n",
              "  <div id=\"df-989c30af-99bd-402c-9ba7-ffe8fa8903c7\">\n",
              "    <div class=\"colab-df-container\">\n",
              "      <div>\n",
              "<style scoped>\n",
              "    .dataframe tbody tr th:only-of-type {\n",
              "        vertical-align: middle;\n",
              "    }\n",
              "\n",
              "    .dataframe tbody tr th {\n",
              "        vertical-align: top;\n",
              "    }\n",
              "\n",
              "    .dataframe thead th {\n",
              "        text-align: right;\n",
              "    }\n",
              "</style>\n",
              "<table border=\"1\" class=\"dataframe\">\n",
              "  <thead>\n",
              "    <tr style=\"text-align: right;\">\n",
              "      <th></th>\n",
              "      <th>pickup_dt</th>\n",
              "      <th>borough</th>\n",
              "      <th>pickups</th>\n",
              "      <th>spd</th>\n",
              "      <th>vsb</th>\n",
              "      <th>temp</th>\n",
              "      <th>dewp</th>\n",
              "      <th>slp</th>\n",
              "      <th>pcp01</th>\n",
              "      <th>pcp06</th>\n",
              "      <th>pcp24</th>\n",
              "      <th>sd</th>\n",
              "      <th>hday</th>\n",
              "      <th>start_year</th>\n",
              "      <th>start_month</th>\n",
              "      <th>start_hour</th>\n",
              "      <th>start_day</th>\n",
              "      <th>week_day</th>\n",
              "    </tr>\n",
              "  </thead>\n",
              "  <tbody>\n",
              "    <tr>\n",
              "      <th>1</th>\n",
              "      <td>2015-01-01 01:00:00</td>\n",
              "      <td>Brooklyn</td>\n",
              "      <td>1519</td>\n",
              "      <td>5.0</td>\n",
              "      <td>10.0</td>\n",
              "      <td>NaN</td>\n",
              "      <td>7.0</td>\n",
              "      <td>1023.5</td>\n",
              "      <td>0.0</td>\n",
              "      <td>0.0</td>\n",
              "      <td>0.0</td>\n",
              "      <td>0.0</td>\n",
              "      <td>Y</td>\n",
              "      <td>2015</td>\n",
              "      <td>January</td>\n",
              "      <td>1</td>\n",
              "      <td>1</td>\n",
              "      <td>Thursday</td>\n",
              "    </tr>\n",
              "    <tr>\n",
              "      <th>8</th>\n",
              "      <td>2015-01-01 02:00:00</td>\n",
              "      <td>Brooklyn</td>\n",
              "      <td>1229</td>\n",
              "      <td>3.0</td>\n",
              "      <td>10.0</td>\n",
              "      <td>NaN</td>\n",
              "      <td>6.0</td>\n",
              "      <td>1023.0</td>\n",
              "      <td>0.0</td>\n",
              "      <td>0.0</td>\n",
              "      <td>0.0</td>\n",
              "      <td>0.0</td>\n",
              "      <td>Y</td>\n",
              "      <td>2015</td>\n",
              "      <td>January</td>\n",
              "      <td>2</td>\n",
              "      <td>1</td>\n",
              "      <td>Thursday</td>\n",
              "    </tr>\n",
              "    <tr>\n",
              "      <th>15</th>\n",
              "      <td>2015-01-01 03:00:00</td>\n",
              "      <td>Brooklyn</td>\n",
              "      <td>1601</td>\n",
              "      <td>5.0</td>\n",
              "      <td>10.0</td>\n",
              "      <td>NaN</td>\n",
              "      <td>8.0</td>\n",
              "      <td>1022.3</td>\n",
              "      <td>0.0</td>\n",
              "      <td>0.0</td>\n",
              "      <td>0.0</td>\n",
              "      <td>0.0</td>\n",
              "      <td>Y</td>\n",
              "      <td>2015</td>\n",
              "      <td>January</td>\n",
              "      <td>3</td>\n",
              "      <td>1</td>\n",
              "      <td>Thursday</td>\n",
              "    </tr>\n",
              "    <tr>\n",
              "      <th>22</th>\n",
              "      <td>2015-01-01 04:00:00</td>\n",
              "      <td>Brooklyn</td>\n",
              "      <td>1390</td>\n",
              "      <td>5.0</td>\n",
              "      <td>10.0</td>\n",
              "      <td>NaN</td>\n",
              "      <td>9.0</td>\n",
              "      <td>1022.0</td>\n",
              "      <td>0.0</td>\n",
              "      <td>0.0</td>\n",
              "      <td>0.0</td>\n",
              "      <td>0.0</td>\n",
              "      <td>Y</td>\n",
              "      <td>2015</td>\n",
              "      <td>January</td>\n",
              "      <td>4</td>\n",
              "      <td>1</td>\n",
              "      <td>Thursday</td>\n",
              "    </tr>\n",
              "    <tr>\n",
              "      <th>29</th>\n",
              "      <td>2015-01-01 05:00:00</td>\n",
              "      <td>Brooklyn</td>\n",
              "      <td>759</td>\n",
              "      <td>5.0</td>\n",
              "      <td>10.0</td>\n",
              "      <td>NaN</td>\n",
              "      <td>9.0</td>\n",
              "      <td>1021.8</td>\n",
              "      <td>0.0</td>\n",
              "      <td>0.0</td>\n",
              "      <td>0.0</td>\n",
              "      <td>0.0</td>\n",
              "      <td>Y</td>\n",
              "      <td>2015</td>\n",
              "      <td>January</td>\n",
              "      <td>5</td>\n",
              "      <td>1</td>\n",
              "      <td>Thursday</td>\n",
              "    </tr>\n",
              "    <tr>\n",
              "      <th>...</th>\n",
              "      <td>...</td>\n",
              "      <td>...</td>\n",
              "      <td>...</td>\n",
              "      <td>...</td>\n",
              "      <td>...</td>\n",
              "      <td>...</td>\n",
              "      <td>...</td>\n",
              "      <td>...</td>\n",
              "      <td>...</td>\n",
              "      <td>...</td>\n",
              "      <td>...</td>\n",
              "      <td>...</td>\n",
              "      <td>...</td>\n",
              "      <td>...</td>\n",
              "      <td>...</td>\n",
              "      <td>...</td>\n",
              "      <td>...</td>\n",
              "      <td>...</td>\n",
              "    </tr>\n",
              "    <tr>\n",
              "      <th>2334</th>\n",
              "      <td>2015-01-15 19:00:00</td>\n",
              "      <td>Brooklyn</td>\n",
              "      <td>594</td>\n",
              "      <td>5.0</td>\n",
              "      <td>10.0</td>\n",
              "      <td>NaN</td>\n",
              "      <td>13.0</td>\n",
              "      <td>1016.2</td>\n",
              "      <td>0.0</td>\n",
              "      <td>0.0</td>\n",
              "      <td>0.0</td>\n",
              "      <td>0.0</td>\n",
              "      <td>N</td>\n",
              "      <td>2015</td>\n",
              "      <td>January</td>\n",
              "      <td>19</td>\n",
              "      <td>15</td>\n",
              "      <td>Thursday</td>\n",
              "    </tr>\n",
              "    <tr>\n",
              "      <th>2340</th>\n",
              "      <td>2015-01-15 20:00:00</td>\n",
              "      <td>Brooklyn</td>\n",
              "      <td>620</td>\n",
              "      <td>5.0</td>\n",
              "      <td>10.0</td>\n",
              "      <td>NaN</td>\n",
              "      <td>13.0</td>\n",
              "      <td>1015.5</td>\n",
              "      <td>0.0</td>\n",
              "      <td>0.0</td>\n",
              "      <td>0.0</td>\n",
              "      <td>0.0</td>\n",
              "      <td>N</td>\n",
              "      <td>2015</td>\n",
              "      <td>January</td>\n",
              "      <td>20</td>\n",
              "      <td>15</td>\n",
              "      <td>Thursday</td>\n",
              "    </tr>\n",
              "    <tr>\n",
              "      <th>2347</th>\n",
              "      <td>2015-01-15 21:00:00</td>\n",
              "      <td>Brooklyn</td>\n",
              "      <td>607</td>\n",
              "      <td>3.0</td>\n",
              "      <td>10.0</td>\n",
              "      <td>NaN</td>\n",
              "      <td>14.0</td>\n",
              "      <td>1015.4</td>\n",
              "      <td>0.0</td>\n",
              "      <td>0.0</td>\n",
              "      <td>0.0</td>\n",
              "      <td>0.0</td>\n",
              "      <td>N</td>\n",
              "      <td>2015</td>\n",
              "      <td>January</td>\n",
              "      <td>21</td>\n",
              "      <td>15</td>\n",
              "      <td>Thursday</td>\n",
              "    </tr>\n",
              "    <tr>\n",
              "      <th>2354</th>\n",
              "      <td>2015-01-15 22:00:00</td>\n",
              "      <td>Brooklyn</td>\n",
              "      <td>648</td>\n",
              "      <td>9.0</td>\n",
              "      <td>10.0</td>\n",
              "      <td>NaN</td>\n",
              "      <td>14.0</td>\n",
              "      <td>1015.4</td>\n",
              "      <td>0.0</td>\n",
              "      <td>0.0</td>\n",
              "      <td>0.0</td>\n",
              "      <td>0.0</td>\n",
              "      <td>N</td>\n",
              "      <td>2015</td>\n",
              "      <td>January</td>\n",
              "      <td>22</td>\n",
              "      <td>15</td>\n",
              "      <td>Thursday</td>\n",
              "    </tr>\n",
              "    <tr>\n",
              "      <th>2361</th>\n",
              "      <td>2015-01-15 23:00:00</td>\n",
              "      <td>Brooklyn</td>\n",
              "      <td>602</td>\n",
              "      <td>5.0</td>\n",
              "      <td>10.0</td>\n",
              "      <td>NaN</td>\n",
              "      <td>16.0</td>\n",
              "      <td>1015.4</td>\n",
              "      <td>0.0</td>\n",
              "      <td>0.0</td>\n",
              "      <td>0.0</td>\n",
              "      <td>0.0</td>\n",
              "      <td>N</td>\n",
              "      <td>2015</td>\n",
              "      <td>January</td>\n",
              "      <td>23</td>\n",
              "      <td>15</td>\n",
              "      <td>Thursday</td>\n",
              "    </tr>\n",
              "  </tbody>\n",
              "</table>\n",
              "<p>359 rows × 18 columns</p>\n",
              "</div>\n",
              "      <button class=\"colab-df-convert\" onclick=\"convertToInteractive('df-989c30af-99bd-402c-9ba7-ffe8fa8903c7')\"\n",
              "              title=\"Convert this dataframe to an interactive table.\"\n",
              "              style=\"display:none;\">\n",
              "        \n",
              "  <svg xmlns=\"http://www.w3.org/2000/svg\" height=\"24px\"viewBox=\"0 0 24 24\"\n",
              "       width=\"24px\">\n",
              "    <path d=\"M0 0h24v24H0V0z\" fill=\"none\"/>\n",
              "    <path d=\"M18.56 5.44l.94 2.06.94-2.06 2.06-.94-2.06-.94-.94-2.06-.94 2.06-2.06.94zm-11 1L8.5 8.5l.94-2.06 2.06-.94-2.06-.94L8.5 2.5l-.94 2.06-2.06.94zm10 10l.94 2.06.94-2.06 2.06-.94-2.06-.94-.94-2.06-.94 2.06-2.06.94z\"/><path d=\"M17.41 7.96l-1.37-1.37c-.4-.4-.92-.59-1.43-.59-.52 0-1.04.2-1.43.59L10.3 9.45l-7.72 7.72c-.78.78-.78 2.05 0 2.83L4 21.41c.39.39.9.59 1.41.59.51 0 1.02-.2 1.41-.59l7.78-7.78 2.81-2.81c.8-.78.8-2.07 0-2.86zM5.41 20L4 18.59l7.72-7.72 1.47 1.35L5.41 20z\"/>\n",
              "  </svg>\n",
              "      </button>\n",
              "      \n",
              "  <style>\n",
              "    .colab-df-container {\n",
              "      display:flex;\n",
              "      flex-wrap:wrap;\n",
              "      gap: 12px;\n",
              "    }\n",
              "\n",
              "    .colab-df-convert {\n",
              "      background-color: #E8F0FE;\n",
              "      border: none;\n",
              "      border-radius: 50%;\n",
              "      cursor: pointer;\n",
              "      display: none;\n",
              "      fill: #1967D2;\n",
              "      height: 32px;\n",
              "      padding: 0 0 0 0;\n",
              "      width: 32px;\n",
              "    }\n",
              "\n",
              "    .colab-df-convert:hover {\n",
              "      background-color: #E2EBFA;\n",
              "      box-shadow: 0px 1px 2px rgba(60, 64, 67, 0.3), 0px 1px 3px 1px rgba(60, 64, 67, 0.15);\n",
              "      fill: #174EA6;\n",
              "    }\n",
              "\n",
              "    [theme=dark] .colab-df-convert {\n",
              "      background-color: #3B4455;\n",
              "      fill: #D2E3FC;\n",
              "    }\n",
              "\n",
              "    [theme=dark] .colab-df-convert:hover {\n",
              "      background-color: #434B5C;\n",
              "      box-shadow: 0px 1px 3px 1px rgba(0, 0, 0, 0.15);\n",
              "      filter: drop-shadow(0px 1px 2px rgba(0, 0, 0, 0.3));\n",
              "      fill: #FFFFFF;\n",
              "    }\n",
              "  </style>\n",
              "\n",
              "      <script>\n",
              "        const buttonEl =\n",
              "          document.querySelector('#df-989c30af-99bd-402c-9ba7-ffe8fa8903c7 button.colab-df-convert');\n",
              "        buttonEl.style.display =\n",
              "          google.colab.kernel.accessAllowed ? 'block' : 'none';\n",
              "\n",
              "        async function convertToInteractive(key) {\n",
              "          const element = document.querySelector('#df-989c30af-99bd-402c-9ba7-ffe8fa8903c7');\n",
              "          const dataTable =\n",
              "            await google.colab.kernel.invokeFunction('convertToInteractive',\n",
              "                                                     [key], {});\n",
              "          if (!dataTable) return;\n",
              "\n",
              "          const docLinkHtml = 'Like what you see? Visit the ' +\n",
              "            '<a target=\"_blank\" href=https://colab.research.google.com/notebooks/data_table.ipynb>data table notebook</a>'\n",
              "            + ' to learn more about interactive tables.';\n",
              "          element.innerHTML = '';\n",
              "          dataTable['output_type'] = 'display_data';\n",
              "          await google.colab.output.renderOutput(dataTable, element);\n",
              "          const docLink = document.createElement('div');\n",
              "          docLink.innerHTML = docLinkHtml;\n",
              "          element.appendChild(docLink);\n",
              "        }\n",
              "      </script>\n",
              "    </div>\n",
              "  </div>\n",
              "  "
            ]
          },
          "metadata": {},
          "execution_count": 28
        }
      ]
    },
    {
      "cell_type": "code",
      "source": [
        "df.loc[df['temp'].isnull()==True,'borough'].value_counts()"
      ],
      "metadata": {
        "colab": {
          "base_uri": "https://localhost:8080/"
        },
        "id": "DfmSkZ6Ec4vs",
        "outputId": "036e6063-1749-4977-dca2-5100085401c0"
      },
      "execution_count": 29,
      "outputs": [
        {
          "output_type": "execute_result",
          "data": {
            "text/plain": [
              "Brooklyn    359\n",
              "Name: borough, dtype: int64"
            ]
          },
          "metadata": {},
          "execution_count": 29
        }
      ]
    },
    {
      "cell_type": "code",
      "source": [
        "df.loc[df['temp'].isnull()==True,'start_month'].value_counts()"
      ],
      "metadata": {
        "colab": {
          "base_uri": "https://localhost:8080/"
        },
        "id": "H4-2a2ypdo0o",
        "outputId": "05a0a764-3159-43e3-979e-94189e5f4781"
      },
      "execution_count": 30,
      "outputs": [
        {
          "output_type": "execute_result",
          "data": {
            "text/plain": [
              "January    359\n",
              "Name: start_month, dtype: int64"
            ]
          },
          "metadata": {},
          "execution_count": 30
        }
      ]
    },
    {
      "cell_type": "code",
      "source": [
        "# Fixing Temp \n",
        "df['temp'] = df['temp'].fillna(value = df['temp'].mean())\n",
        "df['temp'] = df['temp'].fillna(value = df.loc[ (df['start_month'] == 'January'),'temp'].mean())\n",
        "\n",
        "# (df['borough'] == 'Brooklyn') &\n",
        "# median"
      ],
      "metadata": {
        "id": "hJe6x8V-d9DX"
      },
      "execution_count": 31,
      "outputs": []
    },
    {
      "cell_type": "code",
      "source": [
        "# Checking the sum of null values across columns\n",
        "df.isnull().sum()"
      ],
      "metadata": {
        "colab": {
          "base_uri": "https://localhost:8080/"
        },
        "id": "-jxv14xyfqWZ",
        "outputId": "b788ce4a-9128-4e4d-b39c-dc52377ae43c"
      },
      "execution_count": 32,
      "outputs": [
        {
          "output_type": "execute_result",
          "data": {
            "text/plain": [
              "pickup_dt      0\n",
              "borough        0\n",
              "pickups        0\n",
              "spd            0\n",
              "vsb            0\n",
              "temp           0\n",
              "dewp           0\n",
              "slp            0\n",
              "pcp01          0\n",
              "pcp06          0\n",
              "pcp24          0\n",
              "sd             0\n",
              "hday           0\n",
              "start_year     0\n",
              "start_month    0\n",
              "start_hour     0\n",
              "start_day      0\n",
              "week_day       0\n",
              "dtype: int64"
            ]
          },
          "metadata": {},
          "execution_count": 32
        }
      ]
    },
    {
      "cell_type": "markdown",
      "source": [
        "After doing so much hard work, we are now ready to do some exploratory analysis on the dataset. This is pretty common, where we need to spend some time cleaning and processing the data to make it useful for analysis. Else we will just get garbage insights 😬"
      ],
      "metadata": {
        "id": "0kMR6oGPgAU4"
      }
    },
    {
      "cell_type": "markdown",
      "source": [
        "# **Exploratory Data Analysis**"
      ],
      "metadata": {
        "id": "U0uSvrrSgE8O"
      }
    },
    {
      "cell_type": "markdown",
      "source": [
        "## **Univariate Analysis**"
      ],
      "metadata": {
        "id": "ONp7iYibgOdf"
      }
    },
    {
      "cell_type": "code",
      "source": [
        "df.head()"
      ],
      "metadata": {
        "colab": {
          "base_uri": "https://localhost:8080/",
          "height": 206
        },
        "id": "DiCyDVeNf06Q",
        "outputId": "25779679-651e-452e-d16f-564f1173cc69"
      },
      "execution_count": 33,
      "outputs": [
        {
          "output_type": "execute_result",
          "data": {
            "text/plain": [
              "            pickup_dt    borough  pickups  spd   vsb       temp  dewp     slp  \\\n",
              "0 2015-01-01 01:00:00      Bronx      152  5.0  10.0  30.000000   7.0  1023.5   \n",
              "1 2015-01-01 01:00:00   Brooklyn     1519  5.0  10.0  47.900019   7.0  1023.5   \n",
              "2 2015-01-01 01:00:00        EWR        0  5.0  10.0  30.000000   7.0  1023.5   \n",
              "3 2015-01-01 01:00:00  Manhattan     5258  5.0  10.0  30.000000   7.0  1023.5   \n",
              "4 2015-01-01 01:00:00     Queens      405  5.0  10.0  30.000000   7.0  1023.5   \n",
              "\n",
              "   pcp01  pcp06  pcp24   sd hday  start_year start_month  start_hour  \\\n",
              "0    0.0    0.0    0.0  0.0    Y        2015     January           1   \n",
              "1    0.0    0.0    0.0  0.0    Y        2015     January           1   \n",
              "2    0.0    0.0    0.0  0.0    Y        2015     January           1   \n",
              "3    0.0    0.0    0.0  0.0    Y        2015     January           1   \n",
              "4    0.0    0.0    0.0  0.0    Y        2015     January           1   \n",
              "\n",
              "   start_day  week_day  \n",
              "0          1  Thursday  \n",
              "1          1  Thursday  \n",
              "2          1  Thursday  \n",
              "3          1  Thursday  \n",
              "4          1  Thursday  "
            ],
            "text/html": [
              "\n",
              "  <div id=\"df-fc1759b1-fdd6-4d4d-87fb-eb95b4d6eb3f\">\n",
              "    <div class=\"colab-df-container\">\n",
              "      <div>\n",
              "<style scoped>\n",
              "    .dataframe tbody tr th:only-of-type {\n",
              "        vertical-align: middle;\n",
              "    }\n",
              "\n",
              "    .dataframe tbody tr th {\n",
              "        vertical-align: top;\n",
              "    }\n",
              "\n",
              "    .dataframe thead th {\n",
              "        text-align: right;\n",
              "    }\n",
              "</style>\n",
              "<table border=\"1\" class=\"dataframe\">\n",
              "  <thead>\n",
              "    <tr style=\"text-align: right;\">\n",
              "      <th></th>\n",
              "      <th>pickup_dt</th>\n",
              "      <th>borough</th>\n",
              "      <th>pickups</th>\n",
              "      <th>spd</th>\n",
              "      <th>vsb</th>\n",
              "      <th>temp</th>\n",
              "      <th>dewp</th>\n",
              "      <th>slp</th>\n",
              "      <th>pcp01</th>\n",
              "      <th>pcp06</th>\n",
              "      <th>pcp24</th>\n",
              "      <th>sd</th>\n",
              "      <th>hday</th>\n",
              "      <th>start_year</th>\n",
              "      <th>start_month</th>\n",
              "      <th>start_hour</th>\n",
              "      <th>start_day</th>\n",
              "      <th>week_day</th>\n",
              "    </tr>\n",
              "  </thead>\n",
              "  <tbody>\n",
              "    <tr>\n",
              "      <th>0</th>\n",
              "      <td>2015-01-01 01:00:00</td>\n",
              "      <td>Bronx</td>\n",
              "      <td>152</td>\n",
              "      <td>5.0</td>\n",
              "      <td>10.0</td>\n",
              "      <td>30.000000</td>\n",
              "      <td>7.0</td>\n",
              "      <td>1023.5</td>\n",
              "      <td>0.0</td>\n",
              "      <td>0.0</td>\n",
              "      <td>0.0</td>\n",
              "      <td>0.0</td>\n",
              "      <td>Y</td>\n",
              "      <td>2015</td>\n",
              "      <td>January</td>\n",
              "      <td>1</td>\n",
              "      <td>1</td>\n",
              "      <td>Thursday</td>\n",
              "    </tr>\n",
              "    <tr>\n",
              "      <th>1</th>\n",
              "      <td>2015-01-01 01:00:00</td>\n",
              "      <td>Brooklyn</td>\n",
              "      <td>1519</td>\n",
              "      <td>5.0</td>\n",
              "      <td>10.0</td>\n",
              "      <td>47.900019</td>\n",
              "      <td>7.0</td>\n",
              "      <td>1023.5</td>\n",
              "      <td>0.0</td>\n",
              "      <td>0.0</td>\n",
              "      <td>0.0</td>\n",
              "      <td>0.0</td>\n",
              "      <td>Y</td>\n",
              "      <td>2015</td>\n",
              "      <td>January</td>\n",
              "      <td>1</td>\n",
              "      <td>1</td>\n",
              "      <td>Thursday</td>\n",
              "    </tr>\n",
              "    <tr>\n",
              "      <th>2</th>\n",
              "      <td>2015-01-01 01:00:00</td>\n",
              "      <td>EWR</td>\n",
              "      <td>0</td>\n",
              "      <td>5.0</td>\n",
              "      <td>10.0</td>\n",
              "      <td>30.000000</td>\n",
              "      <td>7.0</td>\n",
              "      <td>1023.5</td>\n",
              "      <td>0.0</td>\n",
              "      <td>0.0</td>\n",
              "      <td>0.0</td>\n",
              "      <td>0.0</td>\n",
              "      <td>Y</td>\n",
              "      <td>2015</td>\n",
              "      <td>January</td>\n",
              "      <td>1</td>\n",
              "      <td>1</td>\n",
              "      <td>Thursday</td>\n",
              "    </tr>\n",
              "    <tr>\n",
              "      <th>3</th>\n",
              "      <td>2015-01-01 01:00:00</td>\n",
              "      <td>Manhattan</td>\n",
              "      <td>5258</td>\n",
              "      <td>5.0</td>\n",
              "      <td>10.0</td>\n",
              "      <td>30.000000</td>\n",
              "      <td>7.0</td>\n",
              "      <td>1023.5</td>\n",
              "      <td>0.0</td>\n",
              "      <td>0.0</td>\n",
              "      <td>0.0</td>\n",
              "      <td>0.0</td>\n",
              "      <td>Y</td>\n",
              "      <td>2015</td>\n",
              "      <td>January</td>\n",
              "      <td>1</td>\n",
              "      <td>1</td>\n",
              "      <td>Thursday</td>\n",
              "    </tr>\n",
              "    <tr>\n",
              "      <th>4</th>\n",
              "      <td>2015-01-01 01:00:00</td>\n",
              "      <td>Queens</td>\n",
              "      <td>405</td>\n",
              "      <td>5.0</td>\n",
              "      <td>10.0</td>\n",
              "      <td>30.000000</td>\n",
              "      <td>7.0</td>\n",
              "      <td>1023.5</td>\n",
              "      <td>0.0</td>\n",
              "      <td>0.0</td>\n",
              "      <td>0.0</td>\n",
              "      <td>0.0</td>\n",
              "      <td>Y</td>\n",
              "      <td>2015</td>\n",
              "      <td>January</td>\n",
              "      <td>1</td>\n",
              "      <td>1</td>\n",
              "      <td>Thursday</td>\n",
              "    </tr>\n",
              "  </tbody>\n",
              "</table>\n",
              "</div>\n",
              "      <button class=\"colab-df-convert\" onclick=\"convertToInteractive('df-fc1759b1-fdd6-4d4d-87fb-eb95b4d6eb3f')\"\n",
              "              title=\"Convert this dataframe to an interactive table.\"\n",
              "              style=\"display:none;\">\n",
              "        \n",
              "  <svg xmlns=\"http://www.w3.org/2000/svg\" height=\"24px\"viewBox=\"0 0 24 24\"\n",
              "       width=\"24px\">\n",
              "    <path d=\"M0 0h24v24H0V0z\" fill=\"none\"/>\n",
              "    <path d=\"M18.56 5.44l.94 2.06.94-2.06 2.06-.94-2.06-.94-.94-2.06-.94 2.06-2.06.94zm-11 1L8.5 8.5l.94-2.06 2.06-.94-2.06-.94L8.5 2.5l-.94 2.06-2.06.94zm10 10l.94 2.06.94-2.06 2.06-.94-2.06-.94-.94-2.06-.94 2.06-2.06.94z\"/><path d=\"M17.41 7.96l-1.37-1.37c-.4-.4-.92-.59-1.43-.59-.52 0-1.04.2-1.43.59L10.3 9.45l-7.72 7.72c-.78.78-.78 2.05 0 2.83L4 21.41c.39.39.9.59 1.41.59.51 0 1.02-.2 1.41-.59l7.78-7.78 2.81-2.81c.8-.78.8-2.07 0-2.86zM5.41 20L4 18.59l7.72-7.72 1.47 1.35L5.41 20z\"/>\n",
              "  </svg>\n",
              "      </button>\n",
              "      \n",
              "  <style>\n",
              "    .colab-df-container {\n",
              "      display:flex;\n",
              "      flex-wrap:wrap;\n",
              "      gap: 12px;\n",
              "    }\n",
              "\n",
              "    .colab-df-convert {\n",
              "      background-color: #E8F0FE;\n",
              "      border: none;\n",
              "      border-radius: 50%;\n",
              "      cursor: pointer;\n",
              "      display: none;\n",
              "      fill: #1967D2;\n",
              "      height: 32px;\n",
              "      padding: 0 0 0 0;\n",
              "      width: 32px;\n",
              "    }\n",
              "\n",
              "    .colab-df-convert:hover {\n",
              "      background-color: #E2EBFA;\n",
              "      box-shadow: 0px 1px 2px rgba(60, 64, 67, 0.3), 0px 1px 3px 1px rgba(60, 64, 67, 0.15);\n",
              "      fill: #174EA6;\n",
              "    }\n",
              "\n",
              "    [theme=dark] .colab-df-convert {\n",
              "      background-color: #3B4455;\n",
              "      fill: #D2E3FC;\n",
              "    }\n",
              "\n",
              "    [theme=dark] .colab-df-convert:hover {\n",
              "      background-color: #434B5C;\n",
              "      box-shadow: 0px 1px 3px 1px rgba(0, 0, 0, 0.15);\n",
              "      filter: drop-shadow(0px 1px 2px rgba(0, 0, 0, 0.3));\n",
              "      fill: #FFFFFF;\n",
              "    }\n",
              "  </style>\n",
              "\n",
              "      <script>\n",
              "        const buttonEl =\n",
              "          document.querySelector('#df-fc1759b1-fdd6-4d4d-87fb-eb95b4d6eb3f button.colab-df-convert');\n",
              "        buttonEl.style.display =\n",
              "          google.colab.kernel.accessAllowed ? 'block' : 'none';\n",
              "\n",
              "        async function convertToInteractive(key) {\n",
              "          const element = document.querySelector('#df-fc1759b1-fdd6-4d4d-87fb-eb95b4d6eb3f');\n",
              "          const dataTable =\n",
              "            await google.colab.kernel.invokeFunction('convertToInteractive',\n",
              "                                                     [key], {});\n",
              "          if (!dataTable) return;\n",
              "\n",
              "          const docLinkHtml = 'Like what you see? Visit the ' +\n",
              "            '<a target=\"_blank\" href=https://colab.research.google.com/notebooks/data_table.ipynb>data table notebook</a>'\n",
              "            + ' to learn more about interactive tables.';\n",
              "          element.innerHTML = '';\n",
              "          dataTable['output_type'] = 'display_data';\n",
              "          await google.colab.output.renderOutput(dataTable, element);\n",
              "          const docLink = document.createElement('div');\n",
              "          docLink.innerHTML = docLinkHtml;\n",
              "          element.appendChild(docLink);\n",
              "        }\n",
              "      </script>\n",
              "    </div>\n",
              "  </div>\n",
              "  "
            ]
          },
          "metadata": {},
          "execution_count": 33
        }
      ]
    },
    {
      "cell_type": "code",
      "source": [
        "# Setting the size of the plots inline\n",
        "sns.set(rc = {'figure.figsize' : (11.7,6.27) })"
      ],
      "metadata": {
        "id": "rUDNwkyAgcnG"
      },
      "execution_count": 34,
      "outputs": []
    },
    {
      "cell_type": "code",
      "source": [
        "# Getting the pickup distribution \n",
        "sns.histplot(data = df, x = 'pickups')\n",
        "plt.show()"
      ],
      "metadata": {
        "colab": {
          "base_uri": "https://localhost:8080/",
          "height": 408
        },
        "id": "_mrtRhhXgxRd",
        "outputId": "9e534f4c-cd19-4a71-8e54-51ca14563b49"
      },
      "execution_count": 36,
      "outputs": [
        {
          "output_type": "display_data",
          "data": {
            "text/plain": [
              "<Figure size 842.4x451.44 with 1 Axes>"
            ],
            "image/png": "[encoded data removed]"
          },
          "metadata": {}
        }
      ]
    },
    {
      "cell_type": "code",
      "source": [
        "# Getting the box plot  distribution of pickups\n",
        "sns.boxplot(data=df,x='pickups')\n",
        "plt.show()"
      ],
      "metadata": {
        "colab": {
          "base_uri": "https://localhost:8080/",
          "height": 408
        },
        "id": "5295Ybs0hGeq",
        "outputId": "46386d07-0646-4f60-f584-de5e7a62cee8"
      },
      "execution_count": 37,
      "outputs": [
        {
          "output_type": "display_data",
          "data": {
            "text/plain": [
              "<Figure size 842.4x451.44 with 1 Axes>"
            ],
            "image/png": "[encoded data removed]"
          },
          "metadata": {}
        }
      ]
    },
    {
      "cell_type": "markdown",
      "source": [
        "# **What did you observe?**\n",
        "\n",
        "1. Outliers present.\n",
        "2. Skewed.\n",
        "3. BiModal distribution."
      ],
      "metadata": {
        "id": "UeDZsAlbhxT9"
      }
    },
    {
      "cell_type": "markdown",
      "source": [
        "**Observation on Visibility**"
      ],
      "metadata": {
        "id": "vbN5MXqcinM5"
      }
    },
    {
      "cell_type": "code",
      "source": [
        "# Getting the visibility distribution \n",
        "sns.histplot(data=df, x = 'vsb')\n",
        "plt.show()"
      ],
      "metadata": {
        "colab": {
          "base_uri": "https://localhost:8080/",
          "height": 408
        },
        "id": "SvrJ4W7MhvEe",
        "outputId": "4353b889-1e54-4a64-a4ca-a575ab6b74c5"
      },
      "execution_count": 38,
      "outputs": [
        {
          "output_type": "display_data",
          "data": {
            "text/plain": [
              "<Figure size 842.4x451.44 with 1 Axes>"
            ],
            "image/png": "[encoded data removed]"
          },
          "metadata": {}
        }
      ]
    },
    {
      "cell_type": "code",
      "source": [
        "# Getting the box plot distribution  for visibility in miles\n",
        "sns.boxplot(data=df, x = 'vsb')\n",
        "plt.show()"
      ],
      "metadata": {
        "colab": {
          "base_uri": "https://localhost:8080/",
          "height": 408
        },
        "id": "cmV2l1dYjYBT",
        "outputId": "97c7bf12-5d66-4774-f69a-af51851fd4fb"
      },
      "execution_count": 39,
      "outputs": [
        {
          "output_type": "display_data",
          "data": {
            "text/plain": [
              "<Figure size 842.4x451.44 with 1 Axes>"
            ],
            "image/png": "[encoded data removed]"
          },
          "metadata": {}
        }
      ]
    },
    {
      "cell_type": "markdown",
      "source": [
        "# **🧩 What did you observe ?**"
      ],
      "metadata": {
        "id": "BYXAibKdj_2b"
      }
    },
    {
      "cell_type": "markdown",
      "source": [
        "**Observations on Temperature**"
      ],
      "metadata": {
        "id": "jy8EV6KvkIj7"
      }
    },
    {
      "cell_type": "code",
      "source": [
        "sns.histplot(data=df, x = 'temp')\n",
        "plt.show()\n",
        "sns.boxplot(data=df,x = 'temp')\n",
        "plt.show()"
      ],
      "metadata": {
        "colab": {
          "base_uri": "https://localhost:8080/",
          "height": 799
        },
        "id": "ovB86dHoj4w1",
        "outputId": "ef1ee496-f5d5-41a4-e595-beebf365edd3"
      },
      "execution_count": 40,
      "outputs": [
        {
          "output_type": "display_data",
          "data": {
            "text/plain": [
              "<Figure size 842.4x451.44 with 1 Axes>"
            ],
            "image/png": "[encoded data removed]"
          },
          "metadata": {}
        },
        {
          "output_type": "display_data",
          "data": {
            "text/plain": [
              "<Figure size 842.4x451.44 with 1 Axes>"
            ],
            "image/png": "[encoded data removed]"
          },
          "metadata": {}
        }
      ]
    },
    {
      "cell_type": "markdown",
      "source": [
        "# **🧩 What did you observe ?**"
      ],
      "metadata": {
        "id": "dQ7LFJxfkyh7"
      }
    },
    {
      "cell_type": "markdown",
      "source": [
        "**Observation on Dew point**"
      ],
      "metadata": {
        "id": "8EX1maYsk2Mn"
      }
    },
    {
      "cell_type": "code",
      "source": [
        "sns.histplot(data=df,x='dewp')\n",
        "plt.show()\n",
        "sns.boxplot(data=df,x='dewp')\n",
        "plt.show()"
      ],
      "metadata": {
        "colab": {
          "base_uri": "https://localhost:8080/",
          "height": 799
        },
        "id": "H41yDjzCks7g",
        "outputId": "43c59d24-2c40-462a-bd65-695295546872"
      },
      "execution_count": 41,
      "outputs": [
        {
          "output_type": "display_data",
          "data": {
            "text/plain": [
              "<Figure size 842.4x451.44 with 1 Axes>"
            ],
            "image/png": "[encoded data removed]"
          },
          "metadata": {}
        },
        {
          "output_type": "display_data",
          "data": {
            "text/plain": [
              "<Figure size 842.4x451.44 with 1 Axes>"
            ],
            "image/png": "[encoded data removed]"
          },
          "metadata": {}
        }
      ]
    },
    {
      "cell_type": "markdown",
      "source": [
        "# **🧩 What did you observe ?**"
      ],
      "metadata": {
        "id": "k4Ej4Ej3lJdf"
      }
    },
    {
      "cell_type": "markdown",
      "source": [
        "**Observations on Sea level pressure**"
      ],
      "metadata": {
        "id": "l_v2at_5lNKY"
      }
    },
    {
      "cell_type": "code",
      "source": [
        "sns.histplot(data=df,x='slp')\n",
        "plt.show()\n",
        "sns.boxplot(data=df,x='slp')\n",
        "plt.show()"
      ],
      "metadata": {
        "colab": {
          "base_uri": "https://localhost:8080/",
          "height": 799
        },
        "id": "62KxSxsklDgj",
        "outputId": "fd7d3eb9-175b-49e4-80ba-94816c069e37"
      },
      "execution_count": 42,
      "outputs": [
        {
          "output_type": "display_data",
          "data": {
            "text/plain": [
              "<Figure size 842.4x451.44 with 1 Axes>"
            ],
            "image/png": "[encoded data removed]"
          },
          "metadata": {}
        },
        {
          "output_type": "display_data",
          "data": {
            "text/plain": [
              "<Figure size 842.4x451.44 with 1 Axes>"
            ],
            "image/png": "[encoded data removed]"
          },
          "metadata": {}
        }
      ]
    },
    {
      "cell_type": "markdown",
      "source": [
        "# **🧩 What did you observe ?**"
      ],
      "metadata": {
        "id": "-Xb1dLXullXJ"
      }
    },
    {
      "cell_type": "markdown",
      "source": [
        "**Observations on Liquid Precipitation (Rain)**"
      ],
      "metadata": {
        "id": "WKP5CjAtlo5K"
      }
    },
    {
      "cell_type": "markdown",
      "source": [
        "**1 hour liquid precipitation**"
      ],
      "metadata": {
        "id": "WzZ4BIsklzd7"
      }
    },
    {
      "cell_type": "code",
      "source": [
        "sns.histplot(data=df,x='pcp01')\n",
        "plt.show()\n",
        "sns.boxplot(data=df,x='pcp01')\n",
        "plt.show()"
      ],
      "metadata": {
        "colab": {
          "base_uri": "https://localhost:8080/",
          "height": 799
        },
        "id": "t_d8bEDQlV4o",
        "outputId": "2e2afbba-2e3c-4fc9-f0ec-960892455adc"
      },
      "execution_count": 43,
      "outputs": [
        {
          "output_type": "display_data",
          "data": {
            "text/plain": [
              "<Figure size 842.4x451.44 with 1 Axes>"
            ],
            "image/png": "[encoded data removed]"
          },
          "metadata": {}
        },
        {
          "output_type": "display_data",
          "data": {
            "text/plain": [
              "<Figure size 842.4x451.44 with 1 Axes>"
            ],
            "image/png": "[encoded data removed]"
          },
          "metadata": {}
        }
      ]
    },
    {
      "cell_type": "markdown",
      "source": [
        "# **🧩 What did you observe ?**"
      ],
      "metadata": {
        "id": "4lozABrzmIV6"
      }
    },
    {
      "cell_type": "markdown",
      "source": [
        "**6 hour liquid precipitation**"
      ],
      "metadata": {
        "id": "I0SbuH6hmMMK"
      }
    },
    {
      "cell_type": "code",
      "source": [
        "sns.histplot(data=df,x='pcp06')\n",
        "plt.show()\n",
        "sns.boxplot(data=df,x='pcp06')\n",
        "plt.show()"
      ],
      "metadata": {
        "colab": {
          "base_uri": "https://localhost:8080/",
          "height": 799
        },
        "id": "qJ5BWeGpl_qn",
        "outputId": "f59bc73d-2789-47e1-b13c-06883a2cffc0"
      },
      "execution_count": 44,
      "outputs": [
        {
          "output_type": "display_data",
          "data": {
            "text/plain": [
              "<Figure size 842.4x451.44 with 1 Axes>"
            ],
            "image/png": "[encoded data removed]"
          },
          "metadata": {}
        },
        {
          "output_type": "display_data",
          "data": {
            "text/plain": [
              "<Figure size 842.4x451.44 with 1 Axes>"
            ],
            "image/png": "[encoded data removed]"
          },
          "metadata": {}
        }
      ]
    },
    {
      "cell_type": "markdown",
      "source": [
        "**24 hour liquid precipitation**"
      ],
      "metadata": {
        "id": "HyL1h7NTmcb8"
      }
    },
    {
      "cell_type": "code",
      "source": [
        "sns.histplot(data=df,x='pcp24')\n",
        "plt.show()\n",
        "sns.boxplot(data=df,x='pcp24')\n",
        "plt.show()"
      ],
      "metadata": {
        "colab": {
          "base_uri": "https://localhost:8080/",
          "height": 799
        },
        "id": "1j2dJyOamVH0",
        "outputId": "2af6ddb5-819a-4605-cfe4-91e978f176b7"
      },
      "execution_count": 45,
      "outputs": [
        {
          "output_type": "display_data",
          "data": {
            "text/plain": [
              "<Figure size 842.4x451.44 with 1 Axes>"
            ],
            "image/png": "[encoded data removed]"
          },
          "metadata": {}
        },
        {
          "output_type": "display_data",
          "data": {
            "text/plain": [
              "<Figure size 842.4x451.44 with 1 Axes>"
            ],
            "image/png": "[encoded data removed]"
          },
          "metadata": {}
        }
      ]
    },
    {
      "cell_type": "markdown",
      "source": [
        "# **🧩 What did you observe ?**"
      ],
      "metadata": {
        "id": "rOpX9ikSmqr_"
      }
    },
    {
      "cell_type": "markdown",
      "source": [
        "**Observations on Snow Depth**\n"
      ],
      "metadata": {
        "id": "QEyK_rjTmuXd"
      }
    },
    {
      "cell_type": "code",
      "source": [
        "sns.histplot(data=df,x='sd')\n",
        "plt.show()\n",
        "sns.boxplot(data=df,x='sd')\n",
        "plt.show()"
      ],
      "metadata": {
        "colab": {
          "base_uri": "https://localhost:8080/",
          "height": 799
        },
        "id": "V9U3dhtYmiCD",
        "outputId": "8cf01a86-1d2a-4523-f48b-17e3dfd91a96"
      },
      "execution_count": 46,
      "outputs": [
        {
          "output_type": "display_data",
          "data": {
            "text/plain": [
              "<Figure size 842.4x451.44 with 1 Axes>"
            ],
            "image/png": "[encoded data removed]"
          },
          "metadata": {}
        },
        {
          "output_type": "display_data",
          "data": {
            "text/plain": [
              "<Figure size 842.4x451.44 with 1 Axes>"
            ],
            "image/png": "[encoded data removed]"
          },
          "metadata": {}
        }
      ]
    },
    {
      "cell_type": "markdown",
      "source": [
        "# **🧩 What did you observe ?**"
      ],
      "metadata": {
        "id": "64aNwFMpnD6R"
      }
    },
    {
      "cell_type": "markdown",
      "source": [
        "**Let's explore the categorical variables now**"
      ],
      "metadata": {
        "id": "d1BentdknHpB"
      }
    },
    {
      "cell_type": "markdown",
      "source": [
        "**Let's explore the categorical variables now**"
      ],
      "metadata": {
        "id": "I9YX3ijInNB3"
      }
    },
    {
      "cell_type": "code",
      "source": [
        "# Getting the distribution for holiday variable\n",
        "sns.countplot(data=df, x='hday')"
      ],
      "metadata": {
        "colab": {
          "base_uri": "https://localhost:8080/",
          "height": 425
        },
        "id": "MzUO5eVxm--N",
        "outputId": "da928b86-48f0-47a7-f1eb-9cc0d72687ef"
      },
      "execution_count": 47,
      "outputs": [
        {
          "output_type": "execute_result",
          "data": {
            "text/plain": [
              "<matplotlib.axes._subplots.AxesSubplot at 0x7f2a88c3f2b0>"
            ]
          },
          "metadata": {},
          "execution_count": 47
        },
        {
          "output_type": "display_data",
          "data": {
            "text/plain": [
              "<Figure size 842.4x451.44 with 1 Axes>"
            ],
            "image/png": "[encoded data removed]"
          },
          "metadata": {}
        }
      ]
    },
    {
      "cell_type": "markdown",
      "source": [
        "# **🧩 What did you observe ?**"
      ],
      "metadata": {
        "id": "7JitmkgdniH5"
      }
    },
    {
      "cell_type": "markdown",
      "source": [
        "**Observations on borough**"
      ],
      "metadata": {
        "id": "p_XuNWkSnonp"
      }
    },
    {
      "cell_type": "code",
      "source": [
        "sns.countplot(data=df,x='borough');\n",
        "plt.xticks(rotation = 90);"
      ],
      "metadata": {
        "colab": {
          "base_uri": "https://localhost:8080/",
          "height": 471
        },
        "id": "wC7ofsj-nV5z",
        "outputId": "38176bd4-32dd-48f5-ef57-43ba19936574"
      },
      "execution_count": 48,
      "outputs": [
        {
          "output_type": "display_data",
          "data": {
            "text/plain": [
              "<Figure size 842.4x451.44 with 1 Axes>"
            ],
            "image/png": "[encoded data removed]"
          },
          "metadata": {}
        }
      ]
    },
    {
      "cell_type": "markdown",
      "source": [
        "# **Bivariate Analysis**"
      ],
      "metadata": {
        "id": "MvO_G8Zxny1u"
      }
    },
    {
      "cell_type": "markdown",
      "source": [
        "**Bi means two and variate means variable, so here there are two variables. The analysis is related to the relationship between the two variables.**"
      ],
      "metadata": {
        "id": "DIM0BH05n7Z7"
      }
    },
    {
      "cell_type": "markdown",
      "source": [
        "# **Coorelation Heatmap**"
      ],
      "metadata": {
        "id": "iA4uekX-oQ3s"
      }
    },
    {
      "cell_type": "code",
      "source": [
        "# Check for correlation among numerical variables\n",
        "num_var = ['pickups','spd','vsb','temp','dewp', 'slp','pcp01', 'pcp06', 'pcp24', 'sd']\n",
        "corr = df[num_var].corr()\n",
        "corr\n",
        "\n",
        "# -1 to 1\n",
        "# 1: positive\n",
        "# -1: negative"
      ],
      "metadata": {
        "colab": {
          "base_uri": "https://localhost:8080/",
          "height": 363
        },
        "id": "AmiIj9A4nurh",
        "outputId": "3748ee70-5238-40e3-afcf-a56dabc0711b"
      },
      "execution_count": 49,
      "outputs": [
        {
          "output_type": "execute_result",
          "data": {
            "text/plain": [
              "          pickups       spd       vsb      temp      dewp       slp     pcp01  \\\n",
              "pickups  1.000000  0.011103 -0.007484  0.054146  0.033456 -0.015011  0.004406   \n",
              "spd      0.011103  1.000000  0.089056 -0.291805 -0.321730 -0.091698 -0.000250   \n",
              "vsb     -0.007484  0.089056  1.000000  0.026400 -0.232188  0.165451 -0.487121   \n",
              "temp     0.054146 -0.291805  0.026400  1.000000  0.889635 -0.213800 -0.014114   \n",
              "dewp     0.033456 -0.321730 -0.232188  0.889635  1.000000 -0.310104  0.115585   \n",
              "slp     -0.015011 -0.091698  0.165451 -0.213800 -0.310104  1.000000 -0.088466   \n",
              "pcp01    0.004406 -0.000250 -0.487121 -0.014114  0.115585 -0.088466  1.000000   \n",
              "pcp06   -0.002909  0.016266 -0.117681 -0.039662  0.012435 -0.103059  0.126185   \n",
              "pcp24   -0.020219 -0.010563  0.000323 -0.016387  0.001250 -0.133964  0.001017   \n",
              "sd      -0.008241  0.097919 -0.048110 -0.558519 -0.492485  0.123538 -0.000974   \n",
              "\n",
              "            pcp06     pcp24        sd  \n",
              "pickups -0.002909 -0.020219 -0.008241  \n",
              "spd      0.016266 -0.010563  0.097919  \n",
              "vsb     -0.117681  0.000323 -0.048110  \n",
              "temp    -0.039662 -0.016387 -0.558519  \n",
              "dewp     0.012435  0.001250 -0.492485  \n",
              "slp     -0.103059 -0.133964  0.123538  \n",
              "pcp01    0.126185  0.001017 -0.000974  \n",
              "pcp06    1.000000  0.253583  0.040092  \n",
              "pcp24    0.253583  1.000000  0.070604  \n",
              "sd       0.040092  0.070604  1.000000  "
            ],
            "text/html": [
              "\n",
              "  <div id=\"df-c04a8f46-f047-49af-a2f9-2aa487f0f081\">\n",
              "    <div class=\"colab-df-container\">\n",
              "      <div>\n",
              "<style scoped>\n",
              "    .dataframe tbody tr th:only-of-type {\n",
              "        vertical-align: middle;\n",
              "    }\n",
              "\n",
              "    .dataframe tbody tr th {\n",
              "        vertical-align: top;\n",
              "    }\n",
              "\n",
              "    .dataframe thead th {\n",
              "        text-align: right;\n",
              "    }\n",
              "</style>\n",
              "<table border=\"1\" class=\"dataframe\">\n",
              "  <thead>\n",
              "    <tr style=\"text-align: right;\">\n",
              "      <th></th>\n",
              "      <th>pickups</th>\n",
              "      <th>spd</th>\n",
              "      <th>vsb</th>\n",
              "      <th>temp</th>\n",
              "      <th>dewp</th>\n",
              "      <th>slp</th>\n",
              "      <th>pcp01</th>\n",
              "      <th>pcp06</th>\n",
              "      <th>pcp24</th>\n",
              "      <th>sd</th>\n",
              "    </tr>\n",
              "  </thead>\n",
              "  <tbody>\n",
              "    <tr>\n",
              "      <th>pickups</th>\n",
              "      <td>1.000000</td>\n",
              "      <td>0.011103</td>\n",
              "      <td>-0.007484</td>\n",
              "      <td>0.054146</td>\n",
              "      <td>0.033456</td>\n",
              "      <td>-0.015011</td>\n",
              "      <td>0.004406</td>\n",
              "      <td>-0.002909</td>\n",
              "      <td>-0.020219</td>\n",
              "      <td>-0.008241</td>\n",
              "    </tr>\n",
              "    <tr>\n",
              "      <th>spd</th>\n",
              "      <td>0.011103</td>\n",
              "      <td>1.000000</td>\n",
              "      <td>0.089056</td>\n",
              "      <td>-0.291805</td>\n",
              "      <td>-0.321730</td>\n",
              "      <td>-0.091698</td>\n",
              "      <td>-0.000250</td>\n",
              "      <td>0.016266</td>\n",
              "      <td>-0.010563</td>\n",
              "      <td>0.097919</td>\n",
              "    </tr>\n",
              "    <tr>\n",
              "      <th>vsb</th>\n",
              "      <td>-0.007484</td>\n",
              "      <td>0.089056</td>\n",
              "      <td>1.000000</td>\n",
              "      <td>0.026400</td>\n",
              "      <td>-0.232188</td>\n",
              "      <td>0.165451</td>\n",
              "      <td>-0.487121</td>\n",
              "      <td>-0.117681</td>\n",
              "      <td>0.000323</td>\n",
              "      <td>-0.048110</td>\n",
              "    </tr>\n",
              "    <tr>\n",
              "      <th>temp</th>\n",
              "      <td>0.054146</td>\n",
              "      <td>-0.291805</td>\n",
              "      <td>0.026400</td>\n",
              "      <td>1.000000</td>\n",
              "      <td>0.889635</td>\n",
              "      <td>-0.213800</td>\n",
              "      <td>-0.014114</td>\n",
              "      <td>-0.039662</td>\n",
              "      <td>-0.016387</td>\n",
              "      <td>-0.558519</td>\n",
              "    </tr>\n",
              "    <tr>\n",
              "      <th>dewp</th>\n",
              "      <td>0.033456</td>\n",
              "      <td>-0.321730</td>\n",
              "      <td>-0.232188</td>\n",
              "      <td>0.889635</td>\n",
              "      <td>1.000000</td>\n",
              "      <td>-0.310104</td>\n",
              "      <td>0.115585</td>\n",
              "      <td>0.012435</td>\n",
              "      <td>0.001250</td>\n",
              "      <td>-0.492485</td>\n",
              "    </tr>\n",
              "    <tr>\n",
              "      <th>slp</th>\n",
              "      <td>-0.015011</td>\n",
              "      <td>-0.091698</td>\n",
              "      <td>0.165451</td>\n",
              "      <td>-0.213800</td>\n",
              "      <td>-0.310104</td>\n",
              "      <td>1.000000</td>\n",
              "      <td>-0.088466</td>\n",
              "      <td>-0.103059</td>\n",
              "      <td>-0.133964</td>\n",
              "      <td>0.123538</td>\n",
              "    </tr>\n",
              "    <tr>\n",
              "      <th>pcp01</th>\n",
              "      <td>0.004406</td>\n",
              "      <td>-0.000250</td>\n",
              "      <td>-0.487121</td>\n",
              "      <td>-0.014114</td>\n",
              "      <td>0.115585</td>\n",
              "      <td>-0.088466</td>\n",
              "      <td>1.000000</td>\n",
              "      <td>0.126185</td>\n",
              "      <td>0.001017</td>\n",
              "      <td>-0.000974</td>\n",
              "    </tr>\n",
              "    <tr>\n",
              "      <th>pcp06</th>\n",
              "      <td>-0.002909</td>\n",
              "      <td>0.016266</td>\n",
              "      <td>-0.117681</td>\n",
              "      <td>-0.039662</td>\n",
              "      <td>0.012435</td>\n",
              "      <td>-0.103059</td>\n",
              "      <td>0.126185</td>\n",
              "      <td>1.000000</td>\n",
              "      <td>0.253583</td>\n",
              "      <td>0.040092</td>\n",
              "    </tr>\n",
              "    <tr>\n",
              "      <th>pcp24</th>\n",
              "      <td>-0.020219</td>\n",
              "      <td>-0.010563</td>\n",
              "      <td>0.000323</td>\n",
              "      <td>-0.016387</td>\n",
              "      <td>0.001250</td>\n",
              "      <td>-0.133964</td>\n",
              "      <td>0.001017</td>\n",
              "      <td>0.253583</td>\n",
              "      <td>1.000000</td>\n",
              "      <td>0.070604</td>\n",
              "    </tr>\n",
              "    <tr>\n",
              "      <th>sd</th>\n",
              "      <td>-0.008241</td>\n",
              "      <td>0.097919</td>\n",
              "      <td>-0.048110</td>\n",
              "      <td>-0.558519</td>\n",
              "      <td>-0.492485</td>\n",
              "      <td>0.123538</td>\n",
              "      <td>-0.000974</td>\n",
              "      <td>0.040092</td>\n",
              "      <td>0.070604</td>\n",
              "      <td>1.000000</td>\n",
              "    </tr>\n",
              "  </tbody>\n",
              "</table>\n",
              "</div>\n",
              "      <button class=\"colab-df-convert\" onclick=\"convertToInteractive('df-c04a8f46-f047-49af-a2f9-2aa487f0f081')\"\n",
              "              title=\"Convert this dataframe to an interactive table.\"\n",
              "              style=\"display:none;\">\n",
              "        \n",
              "  <svg xmlns=\"http://www.w3.org/2000/svg\" height=\"24px\"viewBox=\"0 0 24 24\"\n",
              "       width=\"24px\">\n",
              "    <path d=\"M0 0h24v24H0V0z\" fill=\"none\"/>\n",
              "    <path d=\"M18.56 5.44l.94 2.06.94-2.06 2.06-.94-2.06-.94-.94-2.06-.94 2.06-2.06.94zm-11 1L8.5 8.5l.94-2.06 2.06-.94-2.06-.94L8.5 2.5l-.94 2.06-2.06.94zm10 10l.94 2.06.94-2.06 2.06-.94-2.06-.94-.94-2.06-.94 2.06-2.06.94z\"/><path d=\"M17.41 7.96l-1.37-1.37c-.4-.4-.92-.59-1.43-.59-.52 0-1.04.2-1.43.59L10.3 9.45l-7.72 7.72c-.78.78-.78 2.05 0 2.83L4 21.41c.39.39.9.59 1.41.59.51 0 1.02-.2 1.41-.59l7.78-7.78 2.81-2.81c.8-.78.8-2.07 0-2.86zM5.41 20L4 18.59l7.72-7.72 1.47 1.35L5.41 20z\"/>\n",
              "  </svg>\n",
              "      </button>\n",
              "      \n",
              "  <style>\n",
              "    .colab-df-container {\n",
              "      display:flex;\n",
              "      flex-wrap:wrap;\n",
              "      gap: 12px;\n",
              "    }\n",
              "\n",
              "    .colab-df-convert {\n",
              "      background-color: #E8F0FE;\n",
              "      border: none;\n",
              "      border-radius: 50%;\n",
              "      cursor: pointer;\n",
              "      display: none;\n",
              "      fill: #1967D2;\n",
              "      height: 32px;\n",
              "      padding: 0 0 0 0;\n",
              "      width: 32px;\n",
              "    }\n",
              "\n",
              "    .colab-df-convert:hover {\n",
              "      background-color: #E2EBFA;\n",
              "      box-shadow: 0px 1px 2px rgba(60, 64, 67, 0.3), 0px 1px 3px 1px rgba(60, 64, 67, 0.15);\n",
              "      fill: #174EA6;\n",
              "    }\n",
              "\n",
              "    [theme=dark] .colab-df-convert {\n",
              "      background-color: #3B4455;\n",
              "      fill: #D2E3FC;\n",
              "    }\n",
              "\n",
              "    [theme=dark] .colab-df-convert:hover {\n",
              "      background-color: #434B5C;\n",
              "      box-shadow: 0px 1px 3px 1px rgba(0, 0, 0, 0.15);\n",
              "      filter: drop-shadow(0px 1px 2px rgba(0, 0, 0, 0.3));\n",
              "      fill: #FFFFFF;\n",
              "    }\n",
              "  </style>\n",
              "\n",
              "      <script>\n",
              "        const buttonEl =\n",
              "          document.querySelector('#df-c04a8f46-f047-49af-a2f9-2aa487f0f081 button.colab-df-convert');\n",
              "        buttonEl.style.display =\n",
              "          google.colab.kernel.accessAllowed ? 'block' : 'none';\n",
              "\n",
              "        async function convertToInteractive(key) {\n",
              "          const element = document.querySelector('#df-c04a8f46-f047-49af-a2f9-2aa487f0f081');\n",
              "          const dataTable =\n",
              "            await google.colab.kernel.invokeFunction('convertToInteractive',\n",
              "                                                     [key], {});\n",
              "          if (!dataTable) return;\n",
              "\n",
              "          const docLinkHtml = 'Like what you see? Visit the ' +\n",
              "            '<a target=\"_blank\" href=https://colab.research.google.com/notebooks/data_table.ipynb>data table notebook</a>'\n",
              "            + ' to learn more about interactive tables.';\n",
              "          element.innerHTML = '';\n",
              "          dataTable['output_type'] = 'display_data';\n",
              "          await google.colab.output.renderOutput(dataTable, element);\n",
              "          const docLink = document.createElement('div');\n",
              "          docLink.innerHTML = docLinkHtml;\n",
              "          element.appendChild(docLink);\n",
              "        }\n",
              "      </script>\n",
              "    </div>\n",
              "  </div>\n",
              "  "
            ]
          },
          "metadata": {},
          "execution_count": 49
        }
      ]
    },
    {
      "cell_type": "code",
      "source": [
        "# plot the heatmap\n",
        "plt.figure(figsize=(15, 7))\n",
        "sns.heatmap(corr, annot=True, vmin=-1, vmax=1, fmt=\".2f\", cmap=\"RdYlGn\") # Spectral\n",
        "plt.show()"
      ],
      "metadata": {
        "colab": {
          "base_uri": "https://localhost:8080/",
          "height": 435
        },
        "id": "E2BKSg-codVS",
        "outputId": "47ee9e21-0ec9-4808-f8c0-dccf5b66884c"
      },
      "execution_count": 50,
      "outputs": [
        {
          "output_type": "display_data",
          "data": {
            "text/plain": [
              "<Figure size 1080x504 with 2 Axes>"
            ],
            "image/png": "[encoded data removed]"
          },
          "metadata": {}
        }
      ]
    },
    {
      "cell_type": "markdown",
      "source": [
        "# **🧩 What did you observe ?**"
      ],
      "metadata": {
        "id": "u2nj2bAUopBf"
      }
    },
    {
      "cell_type": "markdown",
      "source": [
        "# **Bivariate Scatter Plots**"
      ],
      "metadata": {
        "id": "cTcCcm2IovB_"
      }
    },
    {
      "cell_type": "code",
      "source": [
        "# # Plotting the scatter plots for all numeric variables\n",
        "# sns.pairplot(data=df[num_var], diag_kind=\"kde\")\n",
        "# plt.show()"
      ],
      "metadata": {
        "id": "d0UkaJUhohmi"
      },
      "execution_count": null,
      "outputs": []
    },
    {
      "cell_type": "markdown",
      "source": [
        "# **🧩 What did you observe ?**"
      ],
      "metadata": {
        "id": "4QMQc0qjo19m"
      }
    },
    {
      "cell_type": "markdown",
      "source": [
        "Now let's check the trend between pickups across different time based variables"
      ],
      "metadata": {
        "id": "9MS7ndupo_WZ"
      }
    },
    {
      "cell_type": "markdown",
      "source": [
        "# **Pickups across months**"
      ],
      "metadata": {
        "id": "XLPIqdWPpF_X"
      }
    },
    {
      "cell_type": "code",
      "source": [
        "# Understanding the trend of pickups across months\n",
        "cats = df.start_month.unique().tolist()\n",
        "df.start_month = pd.Categorical(df.start_month, ordered=True, categories=cats)\n",
        "\n",
        "plt.figure(figsize=(15,7))\n",
        "sns.lineplot(data=df, x=\"start_month\", y=\"pickups\", ci=False, color=\"red\", estimator='mean')\n",
        "plt.ylabel('Total pickups')\n",
        "plt.xlabel('Month')\n",
        "plt.show()"
      ],
      "metadata": {
        "colab": {
          "base_uri": "https://localhost:8080/",
          "height": 448
        },
        "id": "pZOqtwaLo7Hd",
        "outputId": "baca082b-a125-4fa6-8020-12c473e046f3"
      },
      "execution_count": 51,
      "outputs": [
        {
          "output_type": "display_data",
          "data": {
            "text/plain": [
              "<Figure size 1080x504 with 1 Axes>"
            ],
            "image/png": "[encoded data removed]"
          },
          "metadata": {}
        }
      ]
    },
    {
      "cell_type": "markdown",
      "source": [
        "# **🧩 What did you observe ?**"
      ],
      "metadata": {
        "id": "dQ42oqLepR_4"
      }
    },
    {
      "cell_type": "markdown",
      "source": [
        "# **Pickups vs Days of the Month**"
      ],
      "metadata": {
        "id": "FnKwzUIMpXwt"
      }
    },
    {
      "cell_type": "code",
      "source": [
        "plt.figure(figsize=(15,7))\n",
        "sns.lineplot(data=df, x=\"start_day\", y=\"pickups\", estimator='sum', ci=False, color=\"red\")\n",
        "plt.ylabel('Total pickups')\n",
        "plt.xlabel('Day of Month')\n",
        "plt.show()"
      ],
      "metadata": {
        "colab": {
          "base_uri": "https://localhost:8080/",
          "height": 448
        },
        "id": "pHmHDmyApNP2",
        "outputId": "13a1188f-7d53-46f0-9a3d-adf369733510"
      },
      "execution_count": 52,
      "outputs": [
        {
          "output_type": "display_data",
          "data": {
            "text/plain": [
              "<Figure size 1080x504 with 1 Axes>"
            ],
            "image/png": "[encoded data removed]"
          },
          "metadata": {}
        }
      ]
    },
    {
      "cell_type": "code",
      "source": [
        "plt.figure(figsize=(15,7))\n",
        "sns.lineplot(data=df, x=\"start_day\", y=\"pickups\", estimator='mean', ci=False, color=\"red\")\n",
        "plt.ylabel('Total pickups')\n",
        "plt.xlabel('Day of Month')\n",
        "plt.show()"
      ],
      "metadata": {
        "colab": {
          "base_uri": "https://localhost:8080/",
          "height": 448
        },
        "id": "Z0n_ZHQDpeCl",
        "outputId": "d60fa4a6-e529-4c40-bca6-6c24220b89e7"
      },
      "execution_count": 53,
      "outputs": [
        {
          "output_type": "display_data",
          "data": {
            "text/plain": [
              "<Figure size 1080x504 with 1 Axes>"
            ],
            "image/png": "[encoded data removed]"
          },
          "metadata": {}
        }
      ]
    },
    {
      "cell_type": "markdown",
      "source": [
        "# **🧩 What did you observe ?**"
      ],
      "metadata": {
        "id": "wkoFpqGRp1XM"
      }
    },
    {
      "cell_type": "markdown",
      "source": [
        "# **Pickups across Hours of the Day**"
      ],
      "metadata": {
        "id": "vIchNJosp-GF"
      }
    },
    {
      "cell_type": "code",
      "source": [
        "plt.figure(figsize=(15,7))\n",
        "sns.lineplot(data=df, x=\"start_hour\", y=\"pickups\", estimator='mean', ci=False, color=\"red\")\n",
        "plt.ylabel('Total pickups')\n",
        "plt.xlabel('Hour of the day')\n",
        "plt.show()"
      ],
      "metadata": {
        "colab": {
          "base_uri": "https://localhost:8080/",
          "height": 448
        },
        "id": "Yu4DD_zupnHW",
        "outputId": "73a81dc2-8bb7-4332-ca54-10d8f45827e0"
      },
      "execution_count": 54,
      "outputs": [
        {
          "output_type": "display_data",
          "data": {
            "text/plain": [
              "<Figure size 1080x504 with 1 Axes>"
            ],
            "image/png": "[encoded data removed]"
          },
          "metadata": {}
        }
      ]
    },
    {
      "cell_type": "markdown",
      "source": [
        "# **🧩 What did you observe ?**"
      ],
      "metadata": {
        "id": "vPkJrcPeqLgf"
      }
    },
    {
      "cell_type": "markdown",
      "source": [
        "# **What is the trend of Pickups across Weekdays**"
      ],
      "metadata": {
        "id": "ewDheIioqR9Z"
      }
    },
    {
      "cell_type": "code",
      "source": [
        "# Getting the trend of pickups across weekdays\n",
        "cats = ['Monday', 'Tuesday', 'Wednesday','Thursday', 'Friday', 'Saturday', 'Sunday']\n",
        "df.week_day = pd.Categorical(df.week_day, ordered=True, categories=cats)\n",
        "\n",
        "plt.figure(figsize=(15,7))\n",
        "sns.lineplot(data=df, x=\"week_day\", y=\"pickups\", ci=False, color=\"red\", estimator='sum')\n",
        "plt.ylabel('Total pickups')\n",
        "plt.xlabel('Weeks')\n",
        "plt.show()"
      ],
      "metadata": {
        "colab": {
          "base_uri": "https://localhost:8080/",
          "height": 459
        },
        "id": "VgWO_jW1qGbv",
        "outputId": "df4d776f-3f81-404e-d158-a6284ff6ddfd"
      },
      "execution_count": 55,
      "outputs": [
        {
          "output_type": "display_data",
          "data": {
            "text/plain": [
              "<Figure size 1080x504 with 1 Axes>"
            ],
            "image/png": "[encoded data removed]"
          },
          "metadata": {}
        }
      ]
    },
    {
      "cell_type": "markdown",
      "source": [
        "# **🧩 What did you observe ?**"
      ],
      "metadata": {
        "id": "Vpm9-lRqqeTl"
      }
    },
    {
      "cell_type": "markdown",
      "source": [
        "# **Outlier Detection and Treatment**"
      ],
      "metadata": {
        "id": "4JQfKaboqhq8"
      }
    },
    {
      "cell_type": "code",
      "source": [
        "# outlier detection using boxplot\n",
        "# selecting the numerical columns of data and adding their names in a list \n",
        "numeric_columns = ['pickups','spd','vsb','temp','dewp', 'slp','pcp01', 'pcp06', 'pcp24', 'sd']\n",
        "plt.figure(figsize=(20, 15))\n",
        "\n",
        "for i, variable in enumerate(numeric_columns):\n",
        "    plt.subplot(4, 4, i + 1)\n",
        "    plt.boxplot(df[variable], whis=1.5)\n",
        "    plt.tight_layout()\n",
        "    plt.title(variable)\n",
        "\n",
        "plt.show()"
      ],
      "metadata": {
        "colab": {
          "base_uri": "https://localhost:8080/",
          "height": 825
        },
        "id": "R31OFle_qZAz",
        "outputId": "2511b139-467d-4fb9-bdcc-d1a67efa0aa4"
      },
      "execution_count": 56,
      "outputs": [
        {
          "output_type": "display_data",
          "data": {
            "text/plain": [
              "<Figure size 1440x1080 with 10 Axes>"
            ],
            "image/png": "[encoded data removed]"
          },
          "metadata": {}
        }
      ]
    },
    {
      "cell_type": "code",
      "source": [
        "# Bivariate\n",
        "sns.boxplot(data = df, y='pickups', x='borough');\n",
        "\n",
        "# Num-Cat"
      ],
      "metadata": {
        "colab": {
          "base_uri": "https://localhost:8080/",
          "height": 408
        },
        "id": "ds6X6xrcqr98",
        "outputId": "f80cec4e-ad24-4a32-930b-cd44144e0e16"
      },
      "execution_count": 57,
      "outputs": [
        {
          "output_type": "display_data",
          "data": {
            "text/plain": [
              "<Figure size 842.4x451.44 with 1 Axes>"
            ],
            "image/png": "[encoded data removed]"
          },
          "metadata": {}
        }
      ]
    },
    {
      "cell_type": "markdown",
      "source": [
        "# **🧩 What did you observe ?**"
      ],
      "metadata": {
        "id": "Uyih04peq-em"
      }
    },
    {
      "cell_type": "markdown",
      "source": [
        "# **Insights**\n",
        "\n",
        "1. Popular in Manhattan\n",
        "2. Rides are high during 8-10am, 7pm\n",
        "3. not so great during winter\n",
        "4. trend increasing from jan to june\n",
        "5. saturdays rides are high\n",
        "6. brooklyn"
      ],
      "metadata": {
        "id": "PVIK7OM9rDVZ"
      }
    },
    {
      "cell_type": "code",
      "source": [],
      "metadata": {
        "id": "Veq_e9V_qx8v"
      },
      "execution_count": null,
      "outputs": []
    }
  ]
}